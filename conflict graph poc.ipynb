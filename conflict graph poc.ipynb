{
 "cells": [
  {
   "cell_type": "code",
   "execution_count": 1,
   "id": "664559bd",
   "metadata": {},
   "outputs": [],
   "source": [
    "%load_ext autoreload\n",
    "%autoreload 2"
   ]
  },
  {
   "cell_type": "code",
   "execution_count": 2,
   "id": "745edd2c",
   "metadata": {},
   "outputs": [],
   "source": [
    "import math\n",
    "import random\n",
    "import numpy as np\n",
    "import matplotlib.pyplot as plt\n",
    "import networkx as nx\n",
    "import graph\n",
    "from graph import LocMap, ConflictGraph, DistMatrixReconstruction\n",
    "from collections import defaultdict\n",
    "from labellines import labelLine, labelLines\n",
    "\n",
    "from cvxpy import *"
   ]
  },
  {
   "cell_type": "code",
   "execution_count": null,
   "id": "fbe68f94",
   "metadata": {},
   "outputs": [],
   "source": [
    "def matrixInverse(inputM):\n",
    "            e0 = inputM[0, 0]\n",
    "            e1 = inputM[0, 1]\n",
    "            e2 = inputM[1, 0]\n",
    "            e3 = inputM[1, 1]\n",
    "            m = 1.0 / (e0*e3 - e1*e2)\n",
    "            matrix = np.array([[m*e3, m*(-e1)], [m*(-e2), m*e0]])\n",
    "            return matrix\n",
    "        \n",
    "matrix = np.array([[2, 1], [3, 2]])\n",
    "matrixInverse(matrix)"
   ]
  },
  {
   "cell_type": "code",
   "execution_count": 3,
   "id": "17df1845",
   "metadata": {},
   "outputs": [],
   "source": [
    "def construct_edges(node_num, p2p_graph, dist_matrix, num_edges):\n",
    "    link_edges = defaultdict(dict)\n",
    "    edge_no = 0\n",
    "    \n",
    "    labels = {}\n",
    "    comm_edges_list = []\n",
    "\n",
    "    for node_u in range(node_num):\n",
    "        for node_v in range(node_u+1, node_num):\n",
    "            if p2p_graph[node_u][node_v] == 1:\n",
    "                link_edges[edge_no] = {'u':node_u, 'v':node_v, 'dist':dist_matrix[node_u][node_v]}\n",
    "                edge_no += 1               \n",
    "\n",
    "    assert (edge_no == num_edges)\n",
    "    \n",
    "    for edge_no in range(int(num_edges)):\n",
    "        node_u = link_edges[edge_no]['u']\n",
    "        node_v = link_edges[edge_no]['v']\n",
    "        dist = link_edges[edge_no]['dist']\n",
    "    \n",
    "        comm_edges_list.append([node_u, node_v])\n",
    "        labels[tuple([node_u, node_v])] = edge_no\n",
    "    \n",
    "    return link_edges, comm_edges_list, labels\n",
    "\n",
    "def construct_conflict_edges(node_num, p2p_graph):\n",
    "    \n",
    "    conflict_edges_dict = defaultdict(dict)\n",
    "    edge_no = 0\n",
    "\n",
    "    conflict_edges_list = []\n",
    "\n",
    "    for node_u in range(node_num):\n",
    "        for node_v in range(node_u+1, node_num):\n",
    "            if p2p_graph[node_u][node_v] == 1:\n",
    "                conflict_edges_dict[edge_no] = {'u':node_u, 'v':node_v}\n",
    "                edge_no += 1               \n",
    "    \n",
    "    for edge_no in range(len(conflict_edges_dict)):\n",
    "        node_u = conflict_edges_dict[edge_no]['u']\n",
    "        node_v = conflict_edges_dict[edge_no]['v']\n",
    "    \n",
    "        conflict_edges_list.append([node_u, node_v])\n",
    "    \n",
    "    return conflict_edges_dict, conflict_edges_list"
   ]
  },
  {
   "cell_type": "code",
   "execution_count": 188,
   "id": "29c0ca1b",
   "metadata": {},
   "outputs": [],
   "source": [
    "node_num = 30\n",
    "\n",
    "nodes_pos = graph.generate_nodes_pos(node_num, -20, 20)\n",
    "\n",
    "complete_dist_graph = graph.generate_complete_dist_graph(nodes_pos)\n",
    "\n",
    "# nodes_pos = np.array([[0,0], [2,0], [0, -1], [6, -1], [6, 3], [4,4]])"
   ]
  },
  {
   "cell_type": "code",
   "execution_count": 189,
   "id": "4dfa982b",
   "metadata": {
    "scrolled": true
   },
   "outputs": [],
   "source": [
    "loc_pos = LocMap(nodes_pos, K=4)\n",
    "loc_pos.HennenburgConstruction(random.randint(0, node_num))\n",
    "loc_pos.ConstructEdgesK()\n",
    "S = loc_pos.trilateration_ordering_check()\n",
    "\n",
    "\n",
    "p2p_graph = loc_pos.get_graph()\n",
    "dist_matrix = loc_pos.get_dist_matrix()\n",
    "\n",
    "link_edges, comm_edges_list, labels = construct_edges(node_num, p2p_graph, dist_matrix, np.count_nonzero(p2p_graph == 1)/2)\n"
   ]
  },
  {
   "cell_type": "code",
   "execution_count": 250,
   "id": "eb8271db",
   "metadata": {},
   "outputs": [],
   "source": [
    "dist_matrix = np.loadtxt(\"dist_matrix.csv\", delimiter=\",\", dtype=np.double)\n",
    "estimated_dist_matrix = np.loadtxt(\"measured_dist_matrix.csv\", delimiter=\",\", dtype=np.double)\n",
    "\n",
    "p2p_graph = np.zeros((dist_matrix.shape[0], dist_matrix.shape[1]))\n",
    "assert (p2p_graph.shape[0] == p2p_graph.shape[1] == 30)\n",
    "    \n",
    "for i in range(p2p_graph.shape[0]):\n",
    "    for j in range(p2p_graph.shape[1]):\n",
    "        p2p_graph[i, j] = 1 if estimated_dist_matrix[i, j] != 0 else 0"
   ]
  },
  {
   "cell_type": "code",
   "execution_count": 253,
   "id": "96d26b47",
   "metadata": {},
   "outputs": [
    {
     "name": "stdout",
     "output_type": "stream",
     "text": [
      "True\n",
      "0.31724137931034485\n"
     ]
    }
   ],
   "source": [
    "print (np.allclose(p2p_graph, p2p_graph.T, rtol=10e-5, atol=10e-5))\n",
    "print (np.count_nonzero(p2p_graph) / (node_num * (node_num-1)))"
   ]
  },
  {
   "cell_type": "code",
   "execution_count": 19,
   "id": "53335b6f",
   "metadata": {},
   "outputs": [],
   "source": [
    "def rmse(A,B):\n",
    "    rmse = np.sqrt(np.mean(((A-B)**2)))\n",
    "    return rmse"
   ]
  },
  {
   "cell_type": "code",
   "execution_count": 129,
   "id": "051bb25d",
   "metadata": {},
   "outputs": [
    {
     "data": {
      "text/plain": [
       "array([[0, 0, 1, 0, 1, 0, 1, 0, 0, 0, 0, 0],\n",
       "       [0, 0, 0, 1, 0, 0, 0, 1, 0, 0, 0, 1],\n",
       "       [1, 0, 0, 1, 1, 0, 1, 0, 1, 1, 0, 0],\n",
       "       [1, 1, 0, 0, 0, 1, 0, 1, 0, 1, 1, 1],\n",
       "       [1, 0, 1, 0, 0, 0, 1, 0, 1, 0, 1, 1],\n",
       "       [0, 0, 0, 1, 1, 0, 0, 0, 0, 1, 1, 1],\n",
       "       [1, 1, 1, 0, 1, 0, 0, 0, 1, 1, 1, 0],\n",
       "       [0, 1, 0, 1, 1, 0, 0, 0, 1, 1, 1, 0],\n",
       "       [0, 0, 1, 1, 1, 0, 1, 1, 0, 1, 1, 1],\n",
       "       [1, 0, 0, 1, 0, 1, 1, 1, 1, 0, 1, 1],\n",
       "       [0, 0, 0, 0, 1, 1, 1, 1, 1, 1, 0, 1],\n",
       "       [1, 1, 0, 1, 1, 1, 1, 0, 1, 1, 1, 0]], dtype=uint8)"
      ]
     },
     "execution_count": 129,
     "metadata": {},
     "output_type": "execute_result"
    }
   ],
   "source": [
    "p2p_cpy"
   ]
  },
  {
   "cell_type": "code",
   "execution_count": 209,
   "id": "e8271e49",
   "metadata": {
    "scrolled": false
   },
   "outputs": [
    {
     "data": {
      "text/plain": [
       "0.6850574712643678"
      ]
     },
     "execution_count": 209,
     "metadata": {},
     "output_type": "execute_result"
    }
   ],
   "source": [
    "np.count_nonzero(p2p_cpy) / (node_num * (node_num-1))"
   ]
  },
  {
   "cell_type": "code",
   "execution_count": 223,
   "id": "8e671ca6",
   "metadata": {},
   "outputs": [],
   "source": [
    "p2p_cpy = p2p_graph.copy()\n",
    "\n",
    "for i in range(p2p_graph.shape[0]):\n",
    "    for j in range(i+1, p2p_graph.shape[1]):\n",
    "        if p2p_cpy[i, j] == 0 and i != j:\n",
    "            if random.random() >= 0.3:\n",
    "                p2p_cpy[i, j] = 1\n",
    "                p2p_cpy[j, i] = 1"
   ]
  },
  {
   "cell_type": "code",
   "execution_count": 224,
   "id": "b051a6e3",
   "metadata": {},
   "outputs": [
    {
     "data": {
      "text/plain": [
       "True"
      ]
     },
     "execution_count": 224,
     "metadata": {},
     "output_type": "execute_result"
    }
   ],
   "source": [
    "noise = np.random.normal(0,2.5,(node_num, node_num))\n",
    "noise_symm = (noise + noise.T)/2\n",
    "\n",
    "np.allclose(noise_symm, noise_symm.T, rtol=10e-5, atol=10e-5)"
   ]
  },
  {
   "cell_type": "code",
   "execution_count": 225,
   "id": "c1045094",
   "metadata": {},
   "outputs": [],
   "source": [
    "masked_dist_matrix = np.multiply(p2p_cpy, dist_matrix)\n",
    "noise_matrix = np.multiply(p2p_cpy, noise_symm)\n",
    "\n",
    "\n",
    "estimated_dist_matrix = masked_dist_matrix + noise_matrix"
   ]
  },
  {
   "cell_type": "code",
   "execution_count": 226,
   "id": "9b0a288b",
   "metadata": {},
   "outputs": [
    {
     "data": {
      "text/plain": [
       "1.5456636627595997"
      ]
     },
     "execution_count": 226,
     "metadata": {},
     "output_type": "execute_result"
    }
   ],
   "source": [
    "rmse(masked_dist_matrix, estimated_dist_matrix)"
   ]
  },
  {
   "cell_type": "code",
   "execution_count": 196,
   "id": "68e17522",
   "metadata": {
    "scrolled": true
   },
   "outputs": [
    {
     "data": {
      "image/png": "[encoded data removed]",
      "text/plain": [
       "<Figure size 576x432 with 1 Axes>"
      ]
     },
     "metadata": {},
     "output_type": "display_data"
    }
   ],
   "source": [
    "# node_idx = ['A', 'B', 'C', 'D', 'E', 'F', 'G', 'H', 'I', 'J', 'K', 'L',\n",
    "#             'M', 'N', 'O', 'P', 'Q', 'R', 'S', 'T', 'U', 'V', 'W', 'X',\n",
    "#             'Y', 'Z', 'AA', 'AB', 'AC', 'AD', 'AE', 'AF', 'AG', 'AG', 'AI',\n",
    "#             'AJ', 'AK', 'AL', 'AM', 'AN', 'AO', 'AP', 'AQ', 'AR', 'AS',\n",
    "#             'AT', 'AU', 'AV', 'AW', 'AX', 'AY', 'AZ', 'BA', 'BB', 'BC',\n",
    "#             'BD', 'BE', 'BF', 'BG', 'BH', 'BI', 'BJ', 'BK', 'BL', 'BM',\n",
    "#             'BN', 'BO', 'BP', 'BQ', 'BR', 'BS', 'BT', 'BU', 'BV', 'BW',\n",
    "#             'BX', 'BY', 'BZ']\n",
    "\n",
    "link_edges, comm_edges_list, labels = construct_edges(node_num, p2p_graph, dist_matrix, np.count_nonzero(p2p_graph == 1)/2)\n",
    "node_idx = [x for x in range(node_num)]\n",
    "\n",
    "G = nx.Graph()\n",
    "G.add_edges_from(comm_edges_list)\n",
    "pos = nodes_pos\n",
    "# pos = {0: (0, 0), 1: (2, 0), 2: (0, -1), 3: (6, -1), 4: (6, 3), 5: (4, 4)} \n",
    "plt.figure(figsize=(8,6))\n",
    "\n",
    "plt.xlabel('X axis (m)', fontsize=16)\n",
    "plt.ylabel('Y axis (m)', fontsize=16)\n",
    "\n",
    "nx.draw(\n",
    "    G, pos, edge_color='red', width=1, linewidths=1,\n",
    "    node_size=300, node_color='Yellow', alpha=0.9,\n",
    "    labels={node: node_idx[node] for node in G.nodes()}\n",
    ")\n",
    "\n",
    "nx.draw_networkx_edge_labels(\n",
    "    G, pos,\n",
    "    edge_labels=labels,\n",
    "    font_color='black'\n",
    ")\n",
    "\n",
    "plt.axis('on')\n",
    "plt.show()"
   ]
  },
  {
   "cell_type": "code",
   "execution_count": 237,
   "id": "0a7a2f51",
   "metadata": {
    "scrolled": false
   },
   "outputs": [],
   "source": [
    "recon = DistMatrixReconstruction(estimated_dist_matrix, node_num)\n",
    "\n",
    "D = recon.EDM_Completion(0.01, 0.003, 2000)"
   ]
  },
  {
   "cell_type": "code",
   "execution_count": 238,
   "id": "6750383d",
   "metadata": {
    "scrolled": false
   },
   "outputs": [
    {
     "data": {
      "text/plain": [
       "3.0197706865525835"
      ]
     },
     "execution_count": 238,
     "metadata": {},
     "output_type": "execute_result"
    }
   ],
   "source": [
    "rmse(D, dist_matrix)"
   ]
  },
  {
   "cell_type": "code",
   "execution_count": null,
   "id": "e6b0ffc1",
   "metadata": {},
   "outputs": [],
   "source": [
    "a = np.matmul(D, p2p_graph)"
   ]
  },
  {
   "cell_type": "code",
   "execution_count": 243,
   "id": "4a06aae8",
   "metadata": {
    "scrolled": true
   },
   "outputs": [],
   "source": [
    "from sklearn.manifold import MDS\n",
    "\n",
    "mds = MDS(n_components=2, max_iter=3000, eps=1e-9, dissimilarity=\"precomputed\", normalized_stress='auto')\n",
    "\n",
    "node_locations = mds.fit_transform(D)\n",
    "e = graph.mds_relative_to_absolute_scale(node_locations, [0, 1, 2], nodes_pos[:3])"
   ]
  },
  {
   "cell_type": "code",
   "execution_count": 244,
   "id": "af94a452",
   "metadata": {},
   "outputs": [
    {
     "data": {
      "text/plain": [
       "array([[ -5.3679022 ,   8.01504045],\n",
       "       [-17.04502871,   0.77354404],\n",
       "       [ -4.55725197,  -2.02064931],\n",
       "       [  4.41484112, -19.33710212],\n",
       "       [ -4.47573285,  14.67131998],\n",
       "       [  1.44934032,   1.93120239],\n",
       "       [  7.53438845, -20.02555345],\n",
       "       [  7.19132255,   6.54829858],\n",
       "       [  6.72061535, -10.4730792 ],\n",
       "       [ -9.97785318,  13.34794421],\n",
       "       [ 12.66192231,   5.09143929],\n",
       "       [  8.41814551,  12.16807374],\n",
       "       [-11.86033491,  10.20602376],\n",
       "       [  8.45682643,   1.34886587],\n",
       "       [ 10.2872432 , -17.80130517],\n",
       "       [ 14.22058622,  -5.86682747],\n",
       "       [ -5.72026559,  -3.23329097],\n",
       "       [ 12.26259623, -14.60432967],\n",
       "       [-13.56778117,   7.63778345],\n",
       "       [-14.148433  ,   9.8362505 ],\n",
       "       [  3.41882549,   1.18766898],\n",
       "       [ 15.74502909,   7.02827761],\n",
       "       [ 13.60802446,  -1.3611307 ],\n",
       "       [ -7.59429219,  -4.24169987],\n",
       "       [-10.97359385, -16.03676847],\n",
       "       [ 13.33669824, -11.81235574],\n",
       "       [  8.11677494, -18.90414171],\n",
       "       [ -6.97969587,   2.1469942 ],\n",
       "       [  2.51561355,  15.97213201],\n",
       "       [-16.82323321,   9.36622713]])"
      ]
     },
     "execution_count": 244,
     "metadata": {},
     "output_type": "execute_result"
    }
   ],
   "source": [
    "e"
   ]
  },
  {
   "cell_type": "code",
   "execution_count": 245,
   "id": "7024e88c",
   "metadata": {
    "scrolled": true
   },
   "outputs": [
    {
     "data": {
      "text/plain": [
       "array([[ -6.71516659,   7.12567121],\n",
       "       [-17.16283491,   1.94035446],\n",
       "       [ -3.09218139,  -2.29809049],\n",
       "       [  9.21151064, -19.30330187],\n",
       "       [ -5.27446156,  15.88419301],\n",
       "       [  2.28632852,   4.81615487],\n",
       "       [ 16.95195222, -17.07174745],\n",
       "       [  9.30323319,  11.19390755],\n",
       "       [ 10.42385448,  -7.84461616],\n",
       "       [-11.04772458,  13.84266803],\n",
       "       [ 15.16044291,  11.53000595],\n",
       "       [  9.98262077,  18.20956827],\n",
       "       [-12.54045398,  10.85678043],\n",
       "       [ 11.33730994,   6.07459314],\n",
       "       [ 16.2829701 , -15.33485555],\n",
       "       [ 18.50458823,  -2.15124709],\n",
       "       [-10.78164357,  -8.47719922],\n",
       "       [ 17.51574638, -11.56752559],\n",
       "       [-13.82389833,   8.24013482],\n",
       "       [-14.32682725,  11.1332827 ],\n",
       "       [  5.19789124,   3.71101032],\n",
       "       [ 18.22512838,  12.17343465],\n",
       "       [ 17.38518349,   2.68644516],\n",
       "       [ -5.00651096,  -3.88836074],\n",
       "       [ -5.4819951 , -18.71024577],\n",
       "       [ 19.33525531,  -7.57261664],\n",
       "       [ 13.9840836 , -17.67169267],\n",
       "       [ -7.01359479,   1.69035525],\n",
       "       [  0.61260198,  19.14431515],\n",
       "       [-17.45635354,   9.58693163]])"
      ]
     },
     "execution_count": 245,
     "metadata": {},
     "output_type": "execute_result"
    }
   ],
   "source": [
    "nodes_pos"
   ]
  },
  {
   "cell_type": "code",
   "execution_count": 246,
   "id": "97976582",
   "metadata": {
    "scrolled": false
   },
   "outputs": [
    {
     "data": {
      "text/plain": [
       "3.3946563396629887"
      ]
     },
     "execution_count": 246,
     "metadata": {},
     "output_type": "execute_result"
    }
   ],
   "source": [
    "rmse(e, nodes_pos)"
   ]
  },
  {
   "cell_type": "code",
   "execution_count": 20,
   "id": "6440f691",
   "metadata": {},
   "outputs": [],
   "source": [
    "re_cp = graph.generate_complete_dist_graph(node_locations)\n",
    "sa_cp = graph.generate_complete_dist_graph(nodes_pos)\n",
    "e_cp = graph.generate_complete_dist_graph(e)"
   ]
  },
  {
   "cell_type": "code",
   "execution_count": null,
   "id": "3c32e79a",
   "metadata": {
    "scrolled": true
   },
   "outputs": [],
   "source": [
    "e"
   ]
  },
  {
   "cell_type": "code",
   "execution_count": null,
   "id": "599f99a5",
   "metadata": {
    "scrolled": true
   },
   "outputs": [],
   "source": [
    "nodes_pos"
   ]
  },
  {
   "cell_type": "code",
   "execution_count": null,
   "id": "ebc4829e",
   "metadata": {
    "scrolled": false
   },
   "outputs": [],
   "source": [
    "node_locations"
   ]
  },
  {
   "cell_type": "code",
   "execution_count": 21,
   "id": "15e8cdf5",
   "metadata": {
    "scrolled": true
   },
   "outputs": [
    {
     "data": {
      "text/plain": [
       "0.0005536107831630041"
      ]
     },
     "execution_count": 21,
     "metadata": {},
     "output_type": "execute_result"
    }
   ],
   "source": [
    "rmse(e_cp, sa_cp)"
   ]
  },
  {
   "cell_type": "code",
   "execution_count": null,
   "id": "69c4f4fd",
   "metadata": {},
   "outputs": [],
   "source": [
    "re_cp"
   ]
  },
  {
   "cell_type": "code",
   "execution_count": null,
   "id": "1487ecd1",
   "metadata": {},
   "outputs": [],
   "source": [
    "sa_cp"
   ]
  },
  {
   "cell_type": "code",
   "execution_count": null,
   "id": "39c47407",
   "metadata": {},
   "outputs": [],
   "source": [
    "def euclidean_dist(pos_a, pos_b):\n",
    "    return math.dist(pos_a, pos_b)\n",
    "\n",
    "def mds_relative_to_absolute_scale(estimated_coordinates, indices_of_anchors, anchors_true_coordinates):\n",
    "    A = np.transpose(estimated_coordinates[indices_of_anchors,:])\n",
    "    B = np.transpose(anchors_true_coordinates)\n",
    "    estimated_coordinates = np.transpose(estimated_coordinates)\n",
    "\n",
    "    assert (A.shape == B.shape)\n",
    "    \n",
    "    print (\"A: \\n{}\".format(A))\n",
    "    print (\"B: \\n{}\".format(B))\n",
    "\n",
    "    all_estimate_coordinates = estimated_coordinates\n",
    "    num_of_points = estimated_coordinates.shape[1]\n",
    "    \n",
    "    print (num_of_points)\n",
    "    \n",
    "    def rigid_transform_3D(A,B):\n",
    "        dimension, num_anchors = A.shape\n",
    "        \n",
    "        # find scale\n",
    "        anchor_dist_A = np.zeros((num_anchors, num_anchors))\n",
    "        anchor_dist_B = np.zeros((num_anchors, num_anchors))\n",
    "\n",
    "        for i in range(num_anchors):\n",
    "            for j in range(num_anchors):\n",
    "                anchor_dist_A[i][j] = euclidean_dist(A[:, i], A[:, j])\n",
    "                anchor_dist_B[i][j] = euclidean_dist(B[:, i], B[:, j])\n",
    "        \n",
    "        scale_matrix = np.divide(anchor_dist_B, anchor_dist_A, out=np.zeros_like(anchor_dist_A), where=anchor_dist_B!=0)\n",
    "        total_n = 0\n",
    "        cnt = 0\n",
    "        for i in range(0, scale_matrix.shape[1]):\n",
    "            for j in range(i+1, scale_matrix.shape[1]):\n",
    "                total_n += scale_matrix[i, j]\n",
    "                cnt += 1\n",
    "        scale = total_n / cnt\n",
    "        A = scale*A\n",
    "\n",
    "        # find rotation\n",
    "        centroid_A = np.expand_dims(np.mean(A, axis=1), axis=1)\n",
    "        centroid_B = np.expand_dims(np.mean(B, axis=1), axis=1)\n",
    "        \n",
    "        diff_A = A - np.tile(centroid_A, (1, num_anchors))\n",
    "        diff_B = B - np.tile(centroid_B, (1, num_anchors))\n",
    "\n",
    "        H = diff_A @ np.transpose(diff_B)\n",
    "\n",
    "        u, _, v = np.linalg.svd(H)\n",
    "\n",
    "        rotation = v.T @ u.T\n",
    "\n",
    "        # find translation\n",
    "        translation = np.matmul(-rotation, centroid_A) + centroid_B\n",
    "\n",
    "        return rotation, translation, scale\n",
    "\n",
    "    rotation, translation, scale = rigid_transform_3D(A, B)\n",
    "    \n",
    "    # print (\"Rotation: \\n{},\\nTranslation: \\n{},\\nScale: {}\".format(rotation, translation, scale))\n",
    "\n",
    "    estimated_coord_mds = np.matmul(rotation, (scale*all_estimate_coordinates)) + np.tile(translation, (1, num_of_points))\n",
    "\n",
    "    return np.transpose(estimated_coord_mds)"
   ]
  },
  {
   "cell_type": "code",
   "execution_count": null,
   "id": "d9c5db7e",
   "metadata": {
    "scrolled": true
   },
   "outputs": [],
   "source": [
    "e = mds_relative_to_absolute_scale(node_locations, [0, 1, 2], nodes_pos[:3])\n",
    "\n",
    "\n",
    "print ()\n",
    "print (nodes_pos)\n",
    "print (e)\n"
   ]
  },
  {
   "cell_type": "code",
   "execution_count": null,
   "id": "565e6e03",
   "metadata": {},
   "outputs": [],
   "source": [
    "node_idx = ['A', 'B', 'C', 'D', 'E', 'F', 'G', 'H', 'I', 'J', 'K', 'L',\n",
    "            'M', 'N', 'O', 'P', 'Q', 'R', 'S', 'T', 'U', 'V', 'W', 'X',\n",
    "            'Y', 'Z', 'AA', 'AB', 'AC', 'AD', 'AE', 'AF', 'AG', 'AG', 'AI',\n",
    "            'AJ', 'AK', 'AL', 'AM', 'AN', 'AO', 'AP', 'AQ', 'AR', 'AS',\n",
    "            'AT', 'AU', 'AV', 'AW', 'AX', 'AY', 'AZ', 'BA', 'BB', 'BC',\n",
    "            'BD', 'BE', 'BF', 'BG', 'BH', 'BI', 'BJ', 'BK', 'BL', 'BM',\n",
    "            'BN', 'BO', 'BP', 'BQ', 'BR', 'BS', 'BT', 'BU', 'BV', 'BW',\n",
    "            'BX', 'BY', 'BZ']\n",
    "\n",
    "G = nx.Graph()\n",
    "G.add_edges_from(comm_edges_list)\n",
    "pos = nodes_pos\n",
    "# pos = {0: (0, 0), 1: (2, 0), 2: (0, -1), 3: (6, -1), 4: (6, 3), 5: (4, 4)} \n",
    "plt.figure(figsize=(8,6))\n",
    "\n",
    "plt.xlabel('X axis (m)', fontsize=16)\n",
    "plt.ylabel('Y axis (m)', fontsize=16)\n",
    "\n",
    "nx.draw(\n",
    "    G, pos, edge_color='red', width=1, linewidths=1,\n",
    "    node_size=300, node_color='Yellow', alpha=0.9,\n",
    "    labels={node: node_idx[node] for node in G.nodes()}\n",
    ")\n",
    "\n",
    "nx.draw_networkx_edge_labels(\n",
    "    G, pos,\n",
    "    edge_labels=labels,\n",
    "    font_color='black'\n",
    ")\n",
    "\n",
    "plt.axis('on')\n",
    "plt.show()"
   ]
  },
  {
   "cell_type": "code",
   "execution_count": null,
   "id": "a0013dc4",
   "metadata": {},
   "outputs": [],
   "source": [
    "node_idx = ['A', 'B', 'C', 'D', 'E', 'F', 'G', 'H', 'I', 'J', 'K', 'L',\n",
    "            'M', 'N', 'O', 'P', 'Q', 'R', 'S', 'T', 'U', 'V', 'W', 'X',\n",
    "            'Y', 'Z', 'AA', 'AB', 'AC', 'AD', 'AE', 'AF', 'AG', 'AG', 'AI',\n",
    "            'AJ', 'AK', 'AL', 'AM', 'AN', 'AO', 'AP', 'AQ', 'AR', 'AS',\n",
    "            'AT', 'AU', 'AV', 'AW', 'AX', 'AY', 'AZ', 'BA', 'BB', 'BC',\n",
    "            'BD', 'BE', 'BF', 'BG', 'BH', 'BI', 'BJ', 'BK', 'BL', 'BM',\n",
    "            'BN', 'BO', 'BP', 'BQ', 'BR', 'BS', 'BT', 'BU', 'BV', 'BW',\n",
    "            'BX', 'BY', 'BZ']\n",
    "\n",
    "G = nx.Graph()\n",
    "G.add_edges_from(comm_edges_list)\n",
    "pos = e\n",
    "# pos = {0: (0, 0), 1: (2, 0), 2: (0, -1), 3: (6, -1), 4: (6, 3), 5: (4, 4)} \n",
    "plt.figure(figsize=(8,6))\n",
    "\n",
    "plt.xlabel('X axis (m)', fontsize=16)\n",
    "plt.ylabel('Y axis (m)', fontsize=16)\n",
    "\n",
    "nx.draw(\n",
    "    G, pos, edge_color='red', width=1, linewidths=1,\n",
    "    node_size=300, node_color='Yellow', alpha=0.9,\n",
    "    labels={node: node_idx[node] for node in G.nodes()}\n",
    ")\n",
    "\n",
    "nx.draw_networkx_edge_labels(\n",
    "    G, pos,\n",
    "    edge_labels=labels,\n",
    "    font_color='black'\n",
    ")\n",
    "\n",
    "plt.axis('on')\n",
    "plt.show()"
   ]
  },
  {
   "cell_type": "code",
   "execution_count": null,
   "id": "87bacda7",
   "metadata": {},
   "outputs": [],
   "source": [
    "conf_graph_obj = ConflictGraph(node_num, nodes_pos, dist_matrix, p2p_graph, link_edges)\n",
    "\n",
    "conf_graph_obj.construct_conflict_graph()\n",
    "conf_graph_obj.construct_independent_sets_by_edges()\n",
    "\n",
    "conf_graph = conf_graph_obj.get_conflict_graph()\n",
    "independent_sets = conf_graph_obj.get_independent_sets()\n",
    "\n",
    "print (conf_graph)\n",
    "\n",
    "_, conf_links = construct_conflict_edges(len(link_edges), conf_graph)"
   ]
  },
  {
   "cell_type": "code",
   "execution_count": null,
   "id": "631cc24c",
   "metadata": {
    "scrolled": true
   },
   "outputs": [],
   "source": [
    "print (conf_links)"
   ]
  },
  {
   "cell_type": "code",
   "execution_count": null,
   "id": "7f2aa4e0",
   "metadata": {},
   "outputs": [],
   "source": [
    "print (independent_sets)"
   ]
  },
  {
   "cell_type": "code",
   "execution_count": null,
   "id": "ddc1b7cc",
   "metadata": {
    "scrolled": true
   },
   "outputs": [],
   "source": [
    "import matplotlib as mpl\n",
    "\n",
    "G = nx.Graph()\n",
    "G.add_edges_from(conf_links)\n",
    "pos = nx.spring_layout(G)\n",
    "plt.figure(figsize=(8,6))\n",
    "\n",
    "cmap = plt.cm.plasma\n",
    "\n",
    "nx.draw(\n",
    "    G, pos, edge_color='black', width=2, linewidths=2,\n",
    "    node_size=300, node_color='pink', alpha=0.9, arrowstyle=\"->\",\n",
    "    arrowsize=25,\n",
    "    labels={node: node for node in G.nodes()}\n",
    ")\n",
    "\n",
    "# nodes = nx.draw_networkx_nodes(G, pos, node_size=300, node_color=\"indigo\", alpha=)\n",
    "# edges = nx.draw_networkx_edges(\n",
    "#     G,\n",
    "#     pos,\n",
    "#     node_size=3,\n",
    "#     arrowstyle=\"->\",\n",
    "#     arrowsize=10,\n",
    "#     edge_color='black',\n",
    "#     edge_cmap=cmap,\n",
    "#     width=2,\n",
    "# )\n",
    "# set alpha value for each edge\n",
    "\n",
    "\n",
    "ax = plt.gca()\n",
    "ax.set_axis_off()\n",
    "plt.show()"
   ]
  },
  {
   "cell_type": "code",
   "execution_count": null,
   "id": "afce56bf",
   "metadata": {},
   "outputs": [],
   "source": [
    "relative_dist_graph = mds.matrix_mask(dist_matrix, p2p_graph)\n",
    "\n",
    "# m = np.max(relative_dist_graph)\n",
    "# relative_dist_graph /= m\n",
    "# relative_dist_graph[relative_dist_graph == 0] = np.nan"
   ]
  },
  {
   "cell_type": "code",
   "execution_count": null,
   "id": "a2a178f9",
   "metadata": {},
   "outputs": [],
   "source": [
    "A = p2p_graph + np.eye(5)"
   ]
  },
  {
   "cell_type": "code",
   "execution_count": null,
   "id": "00f75dcc",
   "metadata": {},
   "outputs": [],
   "source": [
    "np.linalg.matrix_rank(relative_dist_graph)"
   ]
  },
  {
   "cell_type": "code",
   "execution_count": null,
   "id": "488a1274",
   "metadata": {
    "scrolled": false
   },
   "outputs": [],
   "source": [
    "np.linalg.eigvals(relative_dist_graph)"
   ]
  },
  {
   "cell_type": "code",
   "execution_count": null,
   "id": "2bfbcaf1",
   "metadata": {},
   "outputs": [],
   "source": [
    "def rmse(A,B):\n",
    "    rmse = np.sqrt(np.mean(((A-B)**2)))\n",
    "    print(\"RMSE: %.2f\" %rmse)\n",
    "    return rmse"
   ]
  },
  {
   "cell_type": "code",
   "execution_count": null,
   "id": "da59c2fa",
   "metadata": {},
   "outputs": [],
   "source": [
    "from matrix_completion import svt_solve, nuclear_norm_solve, pmf_solve, biased_mf_solve"
   ]
  },
  {
   "cell_type": "code",
   "execution_count": null,
   "id": "27437898",
   "metadata": {},
   "outputs": [],
   "source": [
    "from sklearn.impute import SimpleImputer\n",
    "imp = SimpleImputer(missing_values=np.nan, strategy='mean')\n",
    "\n",
    "a = imp.fit_transform(relative_dist_graph)"
   ]
  },
  {
   "cell_type": "code",
   "execution_count": null,
   "id": "9f9cbaa8",
   "metadata": {},
   "outputs": [],
   "source": [
    "rmse(dist_matrix, a)"
   ]
  },
  {
   "cell_type": "code",
   "execution_count": null,
   "id": "9d72a4bb",
   "metadata": {},
   "outputs": [],
   "source": [
    "X = Variable(dist_matrix.shape)\n",
    "obj = Minimize(norm(X*PM1, 'fro') + norm((PU1.T)*X, 'fro')) # norm frobenius: information from graphs\n",
    "constraints = [multiply(mat_mask, X) == multiply(mat_mask, np.array(UM))]\n",
    "prob = Problem(obj, constraints)\n",
    "prob.solve(solver=SCS)"
   ]
  }
 ],
 "metadata": {
  "kernelspec": {
   "display_name": "Python 3 (ipykernel)",
   "language": "python",
   "name": "python3"
  },
  "language_info": {
   "codemirror_mode": {
    "name": "ipython",
    "version": 3
   },
   "file_extension": ".py",
   "mimetype": "text/x-python",
   "name": "python",
   "nbconvert_exporter": "python",
   "pygments_lexer": "ipython3",
   "version": "3.10.6"
  }
 },
 "nbformat": 4,
 "nbformat_minor": 5
}
