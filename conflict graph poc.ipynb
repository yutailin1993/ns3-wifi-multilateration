{
 "cells": [
  {
   "cell_type": "code",
   "execution_count": 1,
   "id": "664559bd",
   "metadata": {},
   "outputs": [],
   "source": [
    "%load_ext autoreload\n",
    "%autoreload 2"
   ]
  },
  {
   "cell_type": "code",
   "execution_count": 2,
   "id": "745edd2c",
   "metadata": {},
   "outputs": [],
   "source": [
    "import math\n",
    "import random\n",
    "import numpy as np\n",
    "import matplotlib.pyplot as plt\n",
    "import networkx as nx\n",
    "import graph\n",
    "from graph import LocMap, ConflictGraph, DistMatrixReconstruction\n",
    "from collections import defaultdict\n",
    "from labellines import labelLine, labelLines\n",
    "\n",
    "from cvxpy import *"
   ]
  },
  {
   "cell_type": "code",
   "execution_count": null,
   "id": "fbe68f94",
   "metadata": {},
   "outputs": [],
   "source": [
    "def matrixInverse(inputM):\n",
    "            e0 = inputM[0, 0]\n",
    "            e1 = inputM[0, 1]\n",
    "            e2 = inputM[1, 0]\n",
    "            e3 = inputM[1, 1]\n",
    "            m = 1.0 / (e0*e3 - e1*e2)\n",
    "            matrix = np.array([[m*e3, m*(-e1)], [m*(-e2), m*e0]])\n",
    "            return matrix\n",
    "        \n",
    "matrix = np.array([[2, 1], [3, 2]])\n",
    "matrixInverse(matrix)"
   ]
  },
  {
   "cell_type": "code",
   "execution_count": 51,
   "id": "17df1845",
   "metadata": {},
   "outputs": [],
   "source": [
    "def construct_edges(node_num, p2p_graph, dist_matrix, num_edges):\n",
    "    link_edges = defaultdict(dict)\n",
    "    edge_no = 0\n",
    "    \n",
    "    labels = {}\n",
    "    comm_edges_list = []\n",
    "\n",
    "    for node_u in range(node_num):\n",
    "        for node_v in range(node_u+1, node_num):\n",
    "            if p2p_graph[node_u][node_v] == 1:\n",
    "                link_edges[edge_no] = {'u':node_u, 'v':node_v, 'dist':dist_matrix[node_u][node_v]}\n",
    "                edge_no += 1               \n",
    "\n",
    "    assert (edge_no == num_edges)\n",
    "    \n",
    "    for edge_no in range(int(num_edges)):\n",
    "        node_u = link_edges[edge_no]['u']\n",
    "        node_v = link_edges[edge_no]['v']\n",
    "        dist = link_edges[edge_no]['dist']\n",
    "    \n",
    "        comm_edges_list.append([node_u, node_v])\n",
    "        labels[tuple([node_u, node_v])] = edge_no\n",
    "    \n",
    "    return link_edges, comm_edges_list, labels\n",
    "\n",
    "def construct_conflict_edges(node_num, p2p_graph):\n",
    "    \n",
    "    conflict_edges_dict = defaultdict(dict)\n",
    "    edge_no = 0\n",
    "\n",
    "    conflict_edges_list = []\n",
    "\n",
    "    for node_u in range(node_num):\n",
    "        for node_v in range(node_u+1, node_num):\n",
    "            if p2p_graph[node_u][node_v] == 1:\n",
    "                conflict_edges_dict[edge_no] = {'u':node_u, 'v':node_v}\n",
    "                edge_no += 1               \n",
    "    \n",
    "    for edge_no in range(len(conflict_edges_dict)):\n",
    "        node_u = conflict_edges_dict[edge_no]['u']\n",
    "        node_v = conflict_edges_dict[edge_no]['v']\n",
    "    \n",
    "        conflict_edges_list.append([node_u, node_v])\n",
    "    \n",
    "    return conflict_edges_dict, conflict_edges_list"
   ]
  },
  {
   "cell_type": "code",
   "execution_count": 65,
   "id": "29c0ca1b",
   "metadata": {},
   "outputs": [],
   "source": [
    "node_num = 12\n",
    "\n",
    "nodes_pos = graph.generate_nodes_pos(node_num, -20, 20)\n",
    "\n",
    "complete_dist_graph = graph.generate_complete_dist_graph(nodes_pos)\n",
    "\n",
    "# nodes_pos = np.array([[0,0], [2,0], [0, -1], [6, -1], [6, 3], [4,4]])"
   ]
  },
  {
   "cell_type": "code",
   "execution_count": 70,
   "id": "4dfa982b",
   "metadata": {
    "scrolled": true
   },
   "outputs": [],
   "source": [
    "loc_pos = LocMap(nodes_pos, K=4)\n",
    "loc_pos.BFS(random.randint(0, node_num))\n",
    "S = loc_pos.trilateration_ordering_check()\n",
    "\n",
    "p2p_graph = loc_pos.get_graph()\n",
    "dist_matrix = loc_pos.get_dist_matrix()\n",
    "\n",
    "link_edges, comm_edges_list, labels = construct_edges(node_num, p2p_graph, dist_matrix, np.count_nonzero(p2p_graph == 1)/2)\n"
   ]
  },
  {
   "cell_type": "code",
   "execution_count": 3,
   "id": "eb8271db",
   "metadata": {},
   "outputs": [],
   "source": [
    "dist_matrix = np.loadtxt(\"dist_matrix.csv\", delimiter=\",\", dtype=np.double)\n",
    "estimated_dist_matrix = np.loadtxt(\"measured_dist_matrix.csv\", delimiter=\",\", dtype=np.double)"
   ]
  },
  {
   "cell_type": "code",
   "execution_count": 4,
   "id": "53335b6f",
   "metadata": {},
   "outputs": [],
   "source": [
    "def rmse(A,B):\n",
    "    rmse = np.sqrt(np.mean(((A-B)**2)))\n",
    "    return rmse"
   ]
  },
  {
   "cell_type": "code",
   "execution_count": 5,
   "id": "5f8536b8",
   "metadata": {
    "scrolled": true
   },
   "outputs": [
    {
     "name": "stderr",
     "output_type": "stream",
     "text": [
      "/var/folders/kn/rny27clj2_17n3gb83h4z3dh0000gn/T/ipykernel_26012/359771538.py:1: DeprecationWarning: `np.int` is a deprecated alias for the builtin `int`. To silence this warning, use `int` by itself. Doing this will not modify any behavior and is safe. When replacing `np.int`, you may wish to use e.g. `np.int64` or `np.int32` to specify the precision. If you wish to review your current use, check the release note link for additional information.\n",
      "Deprecated in NumPy 1.20; for more details and guidance: https://numpy.org/devdocs/release/1.20.0-notes.html#deprecations\n",
      "  p2p_graph = np.zeros((30, 30), dtype=np.int)\n"
     ]
    }
   ],
   "source": [
    "p2p_graph = np.zeros((30, 30), dtype=np.int)\n",
    "\n",
    "for i in range(estimated_dist_matrix.shape[0]):\n",
    "    for j in range(estimated_dist_matrix.shape[1]):\n",
    "        if estimated_dist_matrix[i][j] != 0.0:\n",
    "            p2p_graph[i][j] = 1 "
   ]
  },
  {
   "cell_type": "code",
   "execution_count": 6,
   "id": "e8271e49",
   "metadata": {},
   "outputs": [
    {
     "data": {
      "text/plain": [
       "276"
      ]
     },
     "execution_count": 6,
     "metadata": {},
     "output_type": "execute_result"
    }
   ],
   "source": [
    "np.count_nonzero(p2p_graph)"
   ]
  },
  {
   "cell_type": "code",
   "execution_count": 72,
   "id": "d916a949",
   "metadata": {},
   "outputs": [],
   "source": [
    "p2p_graph = p2p_graph + np.eye(12)"
   ]
  },
  {
   "cell_type": "code",
   "execution_count": null,
   "id": "617cbb67",
   "metadata": {},
   "outputs": [],
   "source": [
    "a = np.array([[2, 3], [4, 5]])\n",
    "b = np.array([[2, 3], [4, 5]])\n",
    "np.multiply(a, b)"
   ]
  },
  {
   "cell_type": "code",
   "execution_count": 57,
   "id": "c1045094",
   "metadata": {},
   "outputs": [],
   "source": [
    "masked_dist_matrix = np.multiply(p2p_graph, dist_matrix)"
   ]
  },
  {
   "cell_type": "code",
   "execution_count": 55,
   "id": "68e17522",
   "metadata": {
    "scrolled": true
   },
   "outputs": [
    {
     "data": {
      "image/png": "[encoded data removed]",
      "text/plain": [
       "<Figure size 576x432 with 1 Axes>"
      ]
     },
     "metadata": {},
     "output_type": "display_data"
    }
   ],
   "source": [
    "# node_idx = ['A', 'B', 'C', 'D', 'E', 'F', 'G', 'H', 'I', 'J', 'K', 'L',\n",
    "#             'M', 'N', 'O', 'P', 'Q', 'R', 'S', 'T', 'U', 'V', 'W', 'X',\n",
    "#             'Y', 'Z', 'AA', 'AB', 'AC', 'AD', 'AE', 'AF', 'AG', 'AG', 'AI',\n",
    "#             'AJ', 'AK', 'AL', 'AM', 'AN', 'AO', 'AP', 'AQ', 'AR', 'AS',\n",
    "#             'AT', 'AU', 'AV', 'AW', 'AX', 'AY', 'AZ', 'BA', 'BB', 'BC',\n",
    "#             'BD', 'BE', 'BF', 'BG', 'BH', 'BI', 'BJ', 'BK', 'BL', 'BM',\n",
    "#             'BN', 'BO', 'BP', 'BQ', 'BR', 'BS', 'BT', 'BU', 'BV', 'BW',\n",
    "#             'BX', 'BY', 'BZ']\n",
    "\n",
    "node_idx = [x for x in range(nodes_pos.shape[0])]\n",
    "\n",
    "G = nx.Graph()\n",
    "G.add_edges_from(comm_edges_list)\n",
    "pos = nodes_pos\n",
    "# pos = {0: (0, 0), 1: (2, 0), 2: (0, -1), 3: (6, -1), 4: (6, 3), 5: (4, 4)} \n",
    "plt.figure(figsize=(8,6))\n",
    "\n",
    "plt.xlabel('X axis (m)', fontsize=16)\n",
    "plt.ylabel('Y axis (m)', fontsize=16)\n",
    "\n",
    "nx.draw(\n",
    "    G, pos, edge_color='red', width=1, linewidths=1,\n",
    "    node_size=300, node_color='Yellow', alpha=0.9,\n",
    "    labels={node: node_idx[node] for node in G.nodes()}\n",
    ")\n",
    "\n",
    "nx.draw_networkx_edge_labels(\n",
    "    G, pos,\n",
    "    edge_labels=labels,\n",
    "    font_color='black'\n",
    ")\n",
    "\n",
    "plt.axis('on')\n",
    "plt.show()"
   ]
  },
  {
   "cell_type": "code",
   "execution_count": null,
   "id": "d2fdf057",
   "metadata": {},
   "outputs": [],
   "source": [
    "np.allclose(K, K.T, rtol=0.01, atol=0.01)"
   ]
  },
  {
   "cell_type": "code",
   "execution_count": 74,
   "id": "0a7a2f51",
   "metadata": {
    "scrolled": true
   },
   "outputs": [
    {
     "ename": "AssertionError",
     "evalue": "",
     "output_type": "error",
     "traceback": [
      "\u001b[0;31m---------------------------------------------------------------------------\u001b[0m",
      "\u001b[0;31mAssertionError\u001b[0m                            Traceback (most recent call last)",
      "Input \u001b[0;32mIn [74]\u001b[0m, in \u001b[0;36m<cell line: 3>\u001b[0;34m()\u001b[0m\n\u001b[1;32m      1\u001b[0m recon \u001b[38;5;241m=\u001b[39m DistMatrixReconstruction(masked_dist_matrix, \u001b[38;5;241m12\u001b[39m)\n\u001b[0;32m----> 3\u001b[0m D \u001b[38;5;241m=\u001b[39m \u001b[43mrecon\u001b[49m\u001b[38;5;241;43m.\u001b[39;49m\u001b[43mEDM_Completion\u001b[49m\u001b[43m(\u001b[49m\u001b[38;5;241;43m0.01\u001b[39;49m\u001b[43m,\u001b[49m\u001b[43m \u001b[49m\u001b[38;5;241;43m0.05\u001b[39;49m\u001b[43m)\u001b[49m\n",
      "File \u001b[0;32m~/Desktop/Research/GT/ns3-hands-on/ns-allinone-3.36/ns-3.36/graph.py:408\u001b[0m, in \u001b[0;36mDistMatrixReconstruction.EDM_Completion\u001b[0;34m(self, stop_condition, gradient_ratio)\u001b[0m\n\u001b[1;32m    406\u001b[0m candidate_rmse_D \u001b[38;5;241m=\u001b[39m \u001b[38;5;241m100000000\u001b[39m\n\u001b[1;32m    407\u001b[0m \u001b[38;5;28;01mfor\u001b[39;00m _ \u001b[38;5;129;01min\u001b[39;00m \u001b[38;5;28mrange\u001b[39m(\u001b[38;5;241m50\u001b[39m):\n\u001b[0;32m--> 408\u001b[0m     temp_nodes_loc \u001b[38;5;241m=\u001b[39m \u001b[38;5;28;43mself\u001b[39;49m\u001b[38;5;241;43m.\u001b[39;49m\u001b[43msequential_multilateration\u001b[49m\u001b[43m(\u001b[49m\u001b[43m)\u001b[49m\n\u001b[1;32m    409\u001b[0m     temp_D, temp_D_cur \u001b[38;5;241m=\u001b[39m \u001b[38;5;28mself\u001b[39m\u001b[38;5;241m.\u001b[39mgenerate_distance_matrices(temp_nodes_loc)\n\u001b[1;32m    410\u001b[0m     \u001b[38;5;28;01mif\u001b[39;00m candidate_rmse_D \u001b[38;5;241m>\u001b[39m\u001b[38;5;241m=\u001b[39m \u001b[38;5;28mself\u001b[39m\u001b[38;5;241m.\u001b[39mrmse(temp_D, temp_D_cur):\n",
      "File \u001b[0;32m~/Desktop/Research/GT/ns3-hands-on/ns-allinone-3.36/ns-3.36/graph.py:356\u001b[0m, in \u001b[0;36mDistMatrixReconstruction.sequential_multilateration\u001b[0;34m(self)\u001b[0m\n\u001b[1;32m    354\u001b[0m \u001b[38;5;28;01melse\u001b[39;00m: \u001b[38;5;66;03m# greater or equal to 3 nodes\u001b[39;00m\n\u001b[1;32m    355\u001b[0m     adjList \u001b[38;5;241m=\u001b[39m np\u001b[38;5;241m.\u001b[39mintersect1d(S, np\u001b[38;5;241m.\u001b[39mnonzero(\u001b[38;5;28mself\u001b[39m\u001b[38;5;241m.\u001b[39mD_u[candidate])[\u001b[38;5;241m0\u001b[39m])\n\u001b[0;32m--> 356\u001b[0m     \u001b[38;5;28;01massert\u001b[39;00m(adjList\u001b[38;5;241m.\u001b[39mshape[\u001b[38;5;241m0\u001b[39m] \u001b[38;5;241m>\u001b[39m\u001b[38;5;241m=\u001b[39m \u001b[38;5;241m2\u001b[39m)\n\u001b[1;32m    357\u001b[0m     \u001b[38;5;28;01mif\u001b[39;00m (adjList\u001b[38;5;241m.\u001b[39mshape[\u001b[38;5;241m0\u001b[39m] \u001b[38;5;241m==\u001b[39m \u001b[38;5;241m2\u001b[39m):\n\u001b[1;32m    358\u001b[0m         nodes_loc[candidate] \u001b[38;5;241m=\u001b[39m \u001b[38;5;28mself\u001b[39m\u001b[38;5;241m.\u001b[39mbilateration(adjList, candidate, nodes_loc)\n",
      "\u001b[0;31mAssertionError\u001b[0m: "
     ]
    }
   ],
   "source": [
    "recon = DistMatrixReconstruction(masked_dist_matrix, 12)\n",
    "\n",
    "D = recon.EDM_Completion(0.01, 0.05)"
   ]
  },
  {
   "cell_type": "code",
   "execution_count": 68,
   "id": "27809ada",
   "metadata": {},
   "outputs": [
    {
     "name": "stdout",
     "output_type": "stream",
     "text": [
      "[[ 0.         0.         0.         0.         0.         0.\n",
      "   4.6389384  8.48666    0.         5.4150763  0.         0.\n",
      "   0.         0.         0.        10.15849    0.         0.\n",
      "   0.         0.         0.         0.         0.         0.\n",
      "   0.         6.8954763  0.         0.         0.         0.       ]\n",
      " [ 0.         0.         0.         0.         0.        14.953823\n",
      "   0.         0.         0.         0.         0.        10.939125\n",
      "   0.         0.         8.384958   0.         0.         0.\n",
      "   0.         0.         4.6775184  0.         0.         0.\n",
      "   0.         0.         0.         0.         0.         0.       ]\n",
      " [ 0.         0.         0.         0.         0.         6.524582\n",
      "   0.         0.         0.         0.         5.506638   0.\n",
      "   0.         0.         0.         0.         0.         0.\n",
      "   0.         7.5901203  0.         0.         0.         5.9095635\n",
      "   0.         0.         0.         0.         6.524218   0.       ]\n",
      " [ 0.         0.         0.         0.         0.         0.\n",
      "   0.         0.         0.         0.         0.         0.\n",
      "   0.         0.         0.         0.        14.238674   0.\n",
      "   0.         0.         0.         5.3635936  0.         0.\n",
      "   2.8555624  0.         0.         0.         9.919379   4.542662 ]\n",
      " [ 0.         0.         0.         0.         0.         0.\n",
      "   0.         0.         0.         0.         0.         0.\n",
      "   7.106616   2.9405904  0.         0.         0.         0.\n",
      "   0.         0.         0.         0.         6.8342595  0.\n",
      "   0.         0.         0.         1.0726795  0.         0.       ]\n",
      " [ 0.        14.953823   6.524582   0.         0.         0.\n",
      "   0.         0.         0.         0.         6.1508155  5.0651655\n",
      "   0.         0.         6.889494   0.         0.         0.\n",
      "   0.         0.        11.755203   0.         0.         9.944708\n",
      "   0.         0.         0.         0.         0.         0.       ]\n",
      " [ 4.6389384  0.         0.         0.         0.         0.\n",
      "   0.         7.3018427  0.        10.045524   0.         0.\n",
      "   0.         0.         0.         5.706311   0.         0.\n",
      "  10.152434   0.         0.         0.         0.         0.\n",
      "   0.         7.886405  11.855317   0.         0.         0.       ]\n",
      " [ 8.48666    0.         0.         0.         0.         0.\n",
      "   7.3018427  0.         0.        12.435862   0.         9.034002\n",
      "   0.         0.         0.         0.         0.         6.619245\n",
      "   0.         0.         0.         0.         0.         0.\n",
      "   0.         0.         8.254368   0.         0.         0.       ]\n",
      " [ 0.         0.         0.         0.         0.         0.\n",
      "   0.         0.         0.         0.         0.         0.\n",
      "   0.         0.         0.         0.         4.1314254  0.\n",
      "   0.         8.319409   0.         0.         7.731902   0.\n",
      "   0.         0.         0.         0.         8.635072   0.       ]\n",
      " [ 5.4150763  0.         0.         0.         0.         0.\n",
      "  10.045524  12.435862   0.         0.         0.         0.\n",
      "   0.         0.         0.         0.         0.         0.\n",
      "   0.         0.         0.         0.         0.         0.\n",
      "   0.         8.874134   0.         0.         0.         0.       ]\n",
      " [ 0.         0.         5.506638   0.         0.         6.1508155\n",
      "   0.         0.         0.         0.         0.         0.\n",
      "   0.         0.         0.         0.         0.         5.391438\n",
      "   0.         2.3507428  0.         0.         0.        11.341897\n",
      "   0.         0.         0.         0.         0.         0.       ]\n",
      " [ 0.        10.939125   0.         0.         0.         5.0651655\n",
      "   0.         9.034002   0.         0.         0.         0.\n",
      "   0.         0.         2.6104102  0.         0.         0.\n",
      "   0.         0.         7.0423074  0.         0.         0.\n",
      "   0.         0.         0.         0.         0.         0.       ]\n",
      " [ 0.         0.         0.         0.         7.106616   0.\n",
      "   0.         0.         0.         0.         0.         0.\n",
      "   0.         9.656306   0.         0.         6.752137   0.\n",
      "   0.         0.         0.         0.         5.884499   0.\n",
      "   0.         0.         0.         6.688512   0.         0.       ]\n",
      " [ 0.         0.         0.         0.         2.9405904  0.\n",
      "   0.         0.         0.         0.         0.         0.\n",
      "   9.656306   0.         0.         0.         0.         0.\n",
      "   0.         0.         0.         0.         9.708721   0.\n",
      "   0.         0.         0.         3.9223409  0.         0.       ]\n",
      " [ 0.         8.384958   0.         0.         0.         6.889494\n",
      "   0.         0.         0.         0.         0.         2.6104102\n",
      "   0.         0.         0.         0.         0.         0.\n",
      "   0.         0.         4.8739     0.         0.         0.\n",
      "   0.         0.         0.         0.         0.         0.       ]\n",
      " [10.15849    0.         0.         0.         0.         0.\n",
      "   5.706311   0.         0.         0.         0.         0.\n",
      "   0.         0.         0.         0.         0.         0.\n",
      "   4.4542823  0.         0.         0.         0.         0.\n",
      "   0.        10.335091   0.         0.         0.         0.       ]\n",
      " [ 0.         0.         0.        14.238674   0.         0.\n",
      "   0.         0.         4.1314254  0.         0.         0.\n",
      "   6.752137   0.         0.         0.         0.         0.\n",
      "   0.         0.         0.         0.         6.2342505  0.\n",
      "   0.         0.         0.        11.212958   0.         0.       ]\n",
      " [ 0.         0.         0.         0.         0.         0.\n",
      "   0.         6.619245   0.         0.         5.391438   0.\n",
      "   0.         0.         0.         0.         0.         0.\n",
      "   0.         3.6923754  0.         0.         0.         0.\n",
      "   0.         0.         3.0858498  0.         0.         0.       ]\n",
      " [ 0.         0.         0.         0.         0.         0.\n",
      "  10.152434   0.         0.         0.         0.         0.\n",
      "   0.         0.         0.         4.4542823  0.         0.\n",
      "   0.         0.         0.         0.         0.         0.\n",
      "   0.        13.868024  12.520129   0.         0.         0.       ]\n",
      " [ 0.         0.         7.5901203  0.         0.         0.\n",
      "   0.         0.         8.319409   0.         2.3507428  0.\n",
      "   0.         0.         0.         0.         0.         3.6923754\n",
      "   0.         0.         0.         0.         0.         0.\n",
      "   0.         0.         5.8447485  0.         0.         0.       ]\n",
      " [ 0.         4.6775184  0.         0.         0.        11.755203\n",
      "   0.         0.         0.         0.         0.         7.0423074\n",
      "   0.         0.         4.8739     0.         0.         0.\n",
      "   0.         0.         0.         0.         0.         0.\n",
      "   0.         0.         0.         0.         0.         0.       ]\n",
      " [ 0.         0.         0.         5.3635936  0.         0.\n",
      "   0.         0.         0.         0.         0.         0.\n",
      "   0.         0.         0.         0.         0.         0.\n",
      "   0.         0.         0.         0.         0.         0.\n",
      "   6.8322926  0.         0.         0.        14.660128   3.9956434]\n",
      " [ 0.         0.         0.         0.         6.8342595  0.\n",
      "   0.         0.         7.731902   0.         0.         0.\n",
      "   5.884499   9.708721   0.         0.         6.2342505  0.\n",
      "   0.         0.         0.         0.         0.         0.\n",
      "   0.         0.        11.402443   5.794726   0.         0.       ]\n",
      " [ 0.         0.         5.9095635  0.         0.         9.944708\n",
      "   0.         0.         0.         0.        11.341897   0.\n",
      "   0.         0.         0.         0.         0.         0.\n",
      "   0.         0.         0.         0.         0.         0.\n",
      "   0.         0.         0.         0.         7.3503346  0.       ]\n",
      " [ 0.         0.         0.         2.8555624  0.         0.\n",
      "   0.         0.         0.         0.         0.         0.\n",
      "   0.         0.         0.         0.         0.         0.\n",
      "   0.         0.         0.         6.8322926  0.         0.\n",
      "   0.         0.         0.         0.         7.8292155  4.07093  ]\n",
      " [ 6.8954763  0.         0.         0.         0.         0.\n",
      "   7.886405   0.         0.         8.874134   0.         0.\n",
      "   0.         0.         0.        10.335091   0.         0.\n",
      "  13.868024   0.         0.         0.         0.         0.\n",
      "   0.         0.         0.         0.         0.         0.       ]\n",
      " [ 0.         0.         0.         0.         0.         0.\n",
      "  11.855317   8.254368   0.         0.         0.         0.\n",
      "   0.         0.         0.         0.         0.         3.0858498\n",
      "  12.520129   5.8447485  0.         0.        11.402443   0.\n",
      "   0.         0.         0.         0.         0.         0.       ]\n",
      " [ 0.         0.         0.         0.         1.0726795  0.\n",
      "   0.         0.         0.         0.         0.         0.\n",
      "   6.688512   3.9223409  0.         0.        11.212958   0.\n",
      "   0.         0.         0.         0.         5.794726   0.\n",
      "   0.         0.         0.         0.         0.         0.       ]\n",
      " [ 0.         0.         6.524218   9.919379   0.         0.\n",
      "   0.         0.         8.635072   0.         0.         0.\n",
      "   0.         0.         0.         0.         0.         0.\n",
      "   0.         0.         0.        14.660128   0.         7.3503346\n",
      "   7.8292155  0.         0.         0.         0.        11.530804 ]\n",
      " [ 0.         0.         0.         4.542662   0.         0.\n",
      "   0.         0.         0.         0.         0.         0.\n",
      "   0.         0.         0.         0.         0.         0.\n",
      "   0.         0.         0.         3.9956434  0.         0.\n",
      "   4.07093    0.         0.         0.        11.530804   0.       ]]\n"
     ]
    }
   ],
   "source": [
    "print (masked_dist_matrix)"
   ]
  },
  {
   "cell_type": "code",
   "execution_count": 60,
   "id": "e6b0ffc1",
   "metadata": {},
   "outputs": [],
   "source": [
    "a = np.matmul(D, p2p_graph)"
   ]
  },
  {
   "cell_type": "code",
   "execution_count": 61,
   "id": "db2c8286",
   "metadata": {
    "scrolled": true
   },
   "outputs": [
    {
     "data": {
      "text/plain": [
       "77.36505373465556"
      ]
     },
     "execution_count": 61,
     "metadata": {},
     "output_type": "execute_result"
    }
   ],
   "source": [
    "def rmse(A,B):\n",
    "    rmse = np.sqrt(np.mean(((A-B)**2)))\n",
    "    return rmse\n",
    "\n",
    "rmse(a, masked_dist_matrix)"
   ]
  },
  {
   "cell_type": "code",
   "execution_count": null,
   "id": "4a06aae8",
   "metadata": {
    "scrolled": true
   },
   "outputs": [],
   "source": [
    "from sklearn.manifold import MDS\n",
    "\n",
    "mds = MDS(n_components=2, max_iter=3000, eps=1e-9, dissimilarity=\"precomputed\", normalized_stress='auto')\n",
    "\n",
    "node_locations = mds.fit_transform(D)\n",
    "e = graph.mds_relative_to_absolute_scale(node_locations, [0, 1, 2], nodes_pos[:3])"
   ]
  },
  {
   "cell_type": "code",
   "execution_count": null,
   "id": "af94a452",
   "metadata": {},
   "outputs": [],
   "source": [
    "e"
   ]
  },
  {
   "cell_type": "code",
   "execution_count": null,
   "id": "7024e88c",
   "metadata": {
    "scrolled": true
   },
   "outputs": [],
   "source": [
    "nodes_pos"
   ]
  },
  {
   "cell_type": "code",
   "execution_count": null,
   "id": "97976582",
   "metadata": {
    "scrolled": true
   },
   "outputs": [],
   "source": []
  },
  {
   "cell_type": "code",
   "execution_count": null,
   "id": "6440f691",
   "metadata": {},
   "outputs": [],
   "source": [
    "re_cp = graph.generate_complete_dist_graph(node_locations)\n",
    "sa_cp = graph.generate_complete_dist_graph(nodes_pos)\n",
    "e_cp = graph.generate_complete_dist_graph(e)"
   ]
  },
  {
   "cell_type": "code",
   "execution_count": null,
   "id": "3c32e79a",
   "metadata": {
    "scrolled": true
   },
   "outputs": [],
   "source": [
    "e"
   ]
  },
  {
   "cell_type": "code",
   "execution_count": null,
   "id": "599f99a5",
   "metadata": {
    "scrolled": true
   },
   "outputs": [],
   "source": [
    "nodes_pos"
   ]
  },
  {
   "cell_type": "code",
   "execution_count": null,
   "id": "ebc4829e",
   "metadata": {
    "scrolled": false
   },
   "outputs": [],
   "source": [
    "node_locations"
   ]
  },
  {
   "cell_type": "code",
   "execution_count": null,
   "id": "15e8cdf5",
   "metadata": {},
   "outputs": [],
   "source": [
    "rmse(e_cp, sa_cp)"
   ]
  },
  {
   "cell_type": "code",
   "execution_count": null,
   "id": "69c4f4fd",
   "metadata": {},
   "outputs": [],
   "source": [
    "re_cp"
   ]
  },
  {
   "cell_type": "code",
   "execution_count": null,
   "id": "1487ecd1",
   "metadata": {},
   "outputs": [],
   "source": [
    "sa_cp"
   ]
  },
  {
   "cell_type": "code",
   "execution_count": 56,
   "id": "39c47407",
   "metadata": {},
   "outputs": [],
   "source": [
    "def euclidean_dist(pos_a, pos_b):\n",
    "    return math.dist(pos_a, pos_b)\n",
    "\n",
    "def mds_relative_to_absolute_scale(estimated_coordinates, indices_of_anchors, anchors_true_coordinates):\n",
    "    A = np.transpose(estimated_coordinates[indices_of_anchors,:])\n",
    "    B = np.transpose(anchors_true_coordinates)\n",
    "    estimated_coordinates = np.transpose(estimated_coordinates)\n",
    "\n",
    "    assert (A.shape == B.shape)\n",
    "    \n",
    "    print (\"A: \\n{}\".format(A))\n",
    "    print (\"B: \\n{}\".format(B))\n",
    "\n",
    "    all_estimate_coordinates = estimated_coordinates\n",
    "    num_of_points = estimated_coordinates.shape[1]\n",
    "    \n",
    "    print (num_of_points)\n",
    "    \n",
    "    def rigid_transform_3D(A,B):\n",
    "        dimension, num_anchors = A.shape\n",
    "        \n",
    "        # find scale\n",
    "        anchor_dist_A = np.zeros((num_anchors, num_anchors))\n",
    "        anchor_dist_B = np.zeros((num_anchors, num_anchors))\n",
    "\n",
    "        for i in range(num_anchors):\n",
    "            for j in range(num_anchors):\n",
    "                anchor_dist_A[i][j] = euclidean_dist(A[:, i], A[:, j])\n",
    "                anchor_dist_B[i][j] = euclidean_dist(B[:, i], B[:, j])\n",
    "        \n",
    "        scale_matrix = np.divide(anchor_dist_B, anchor_dist_A, out=np.zeros_like(anchor_dist_A), where=anchor_dist_B!=0)\n",
    "        total_n = 0\n",
    "        cnt = 0\n",
    "        for i in range(0, scale_matrix.shape[1]):\n",
    "            for j in range(i+1, scale_matrix.shape[1]):\n",
    "                total_n += scale_matrix[i, j]\n",
    "                cnt += 1\n",
    "        scale = total_n / cnt\n",
    "        A = scale*A\n",
    "\n",
    "        # find rotation\n",
    "        centroid_A = np.expand_dims(np.mean(A, axis=1), axis=1)\n",
    "        centroid_B = np.expand_dims(np.mean(B, axis=1), axis=1)\n",
    "        \n",
    "        diff_A = A - np.tile(centroid_A, (1, num_anchors))\n",
    "        diff_B = B - np.tile(centroid_B, (1, num_anchors))\n",
    "\n",
    "        H = diff_A @ np.transpose(diff_B)\n",
    "\n",
    "        u, _, v = np.linalg.svd(H)\n",
    "\n",
    "        rotation = v.T @ u.T\n",
    "\n",
    "        # find translation\n",
    "        translation = np.matmul(-rotation, centroid_A) + centroid_B\n",
    "\n",
    "        return rotation, translation, scale\n",
    "\n",
    "    rotation, translation, scale = rigid_transform_3D(A, B)\n",
    "    \n",
    "    # print (\"Rotation: \\n{},\\nTranslation: \\n{},\\nScale: {}\".format(rotation, translation, scale))\n",
    "\n",
    "    estimated_coord_mds = np.matmul(rotation, (scale*all_estimate_coordinates)) + np.tile(translation, (1, num_of_points))\n",
    "\n",
    "    return np.transpose(estimated_coord_mds)"
   ]
  },
  {
   "cell_type": "code",
   "execution_count": null,
   "id": "d9c5db7e",
   "metadata": {
    "scrolled": true
   },
   "outputs": [],
   "source": [
    "e = mds_relative_to_absolute_scale(node_locations, [0, 1, 2], nodes_pos[:3])\n",
    "\n",
    "\n",
    "print ()\n",
    "print (nodes_pos)\n",
    "print (e)\n"
   ]
  },
  {
   "cell_type": "code",
   "execution_count": null,
   "id": "565e6e03",
   "metadata": {},
   "outputs": [],
   "source": [
    "node_idx = ['A', 'B', 'C', 'D', 'E', 'F', 'G', 'H', 'I', 'J', 'K', 'L',\n",
    "            'M', 'N', 'O', 'P', 'Q', 'R', 'S', 'T', 'U', 'V', 'W', 'X',\n",
    "            'Y', 'Z', 'AA', 'AB', 'AC', 'AD', 'AE', 'AF', 'AG', 'AG', 'AI',\n",
    "            'AJ', 'AK', 'AL', 'AM', 'AN', 'AO', 'AP', 'AQ', 'AR', 'AS',\n",
    "            'AT', 'AU', 'AV', 'AW', 'AX', 'AY', 'AZ', 'BA', 'BB', 'BC',\n",
    "            'BD', 'BE', 'BF', 'BG', 'BH', 'BI', 'BJ', 'BK', 'BL', 'BM',\n",
    "            'BN', 'BO', 'BP', 'BQ', 'BR', 'BS', 'BT', 'BU', 'BV', 'BW',\n",
    "            'BX', 'BY', 'BZ']\n",
    "\n",
    "G = nx.Graph()\n",
    "G.add_edges_from(comm_edges_list)\n",
    "pos = nodes_pos\n",
    "# pos = {0: (0, 0), 1: (2, 0), 2: (0, -1), 3: (6, -1), 4: (6, 3), 5: (4, 4)} \n",
    "plt.figure(figsize=(8,6))\n",
    "\n",
    "plt.xlabel('X axis (m)', fontsize=16)\n",
    "plt.ylabel('Y axis (m)', fontsize=16)\n",
    "\n",
    "nx.draw(\n",
    "    G, pos, edge_color='red', width=1, linewidths=1,\n",
    "    node_size=300, node_color='Yellow', alpha=0.9,\n",
    "    labels={node: node_idx[node] for node in G.nodes()}\n",
    ")\n",
    "\n",
    "nx.draw_networkx_edge_labels(\n",
    "    G, pos,\n",
    "    edge_labels=labels,\n",
    "    font_color='black'\n",
    ")\n",
    "\n",
    "plt.axis('on')\n",
    "plt.show()"
   ]
  },
  {
   "cell_type": "code",
   "execution_count": null,
   "id": "a0013dc4",
   "metadata": {},
   "outputs": [],
   "source": [
    "node_idx = ['A', 'B', 'C', 'D', 'E', 'F', 'G', 'H', 'I', 'J', 'K', 'L',\n",
    "            'M', 'N', 'O', 'P', 'Q', 'R', 'S', 'T', 'U', 'V', 'W', 'X',\n",
    "            'Y', 'Z', 'AA', 'AB', 'AC', 'AD', 'AE', 'AF', 'AG', 'AG', 'AI',\n",
    "            'AJ', 'AK', 'AL', 'AM', 'AN', 'AO', 'AP', 'AQ', 'AR', 'AS',\n",
    "            'AT', 'AU', 'AV', 'AW', 'AX', 'AY', 'AZ', 'BA', 'BB', 'BC',\n",
    "            'BD', 'BE', 'BF', 'BG', 'BH', 'BI', 'BJ', 'BK', 'BL', 'BM',\n",
    "            'BN', 'BO', 'BP', 'BQ', 'BR', 'BS', 'BT', 'BU', 'BV', 'BW',\n",
    "            'BX', 'BY', 'BZ']\n",
    "\n",
    "G = nx.Graph()\n",
    "G.add_edges_from(comm_edges_list)\n",
    "pos = e\n",
    "# pos = {0: (0, 0), 1: (2, 0), 2: (0, -1), 3: (6, -1), 4: (6, 3), 5: (4, 4)} \n",
    "plt.figure(figsize=(8,6))\n",
    "\n",
    "plt.xlabel('X axis (m)', fontsize=16)\n",
    "plt.ylabel('Y axis (m)', fontsize=16)\n",
    "\n",
    "nx.draw(\n",
    "    G, pos, edge_color='red', width=1, linewidths=1,\n",
    "    node_size=300, node_color='Yellow', alpha=0.9,\n",
    "    labels={node: node_idx[node] for node in G.nodes()}\n",
    ")\n",
    "\n",
    "nx.draw_networkx_edge_labels(\n",
    "    G, pos,\n",
    "    edge_labels=labels,\n",
    "    font_color='black'\n",
    ")\n",
    "\n",
    "plt.axis('on')\n",
    "plt.show()"
   ]
  },
  {
   "cell_type": "code",
   "execution_count": null,
   "id": "87bacda7",
   "metadata": {},
   "outputs": [],
   "source": [
    "conf_graph_obj = ConflictGraph(node_num, nodes_pos, dist_matrix, p2p_graph, link_edges)\n",
    "\n",
    "conf_graph_obj.construct_conflict_graph()\n",
    "conf_graph_obj.construct_independent_sets_by_edges()\n",
    "\n",
    "conf_graph = conf_graph_obj.get_conflict_graph()\n",
    "independent_sets = conf_graph_obj.get_independent_sets()\n",
    "\n",
    "print (conf_graph)\n",
    "\n",
    "_, conf_links = construct_conflict_edges(len(link_edges), conf_graph)"
   ]
  },
  {
   "cell_type": "code",
   "execution_count": null,
   "id": "631cc24c",
   "metadata": {
    "scrolled": true
   },
   "outputs": [],
   "source": [
    "print (conf_links)"
   ]
  },
  {
   "cell_type": "code",
   "execution_count": null,
   "id": "7f2aa4e0",
   "metadata": {},
   "outputs": [],
   "source": [
    "print (independent_sets)"
   ]
  },
  {
   "cell_type": "code",
   "execution_count": null,
   "id": "ddc1b7cc",
   "metadata": {
    "scrolled": true
   },
   "outputs": [],
   "source": [
    "import matplotlib as mpl\n",
    "\n",
    "G = nx.Graph()\n",
    "G.add_edges_from(conf_links)\n",
    "pos = nx.spring_layout(G)\n",
    "plt.figure(figsize=(8,6))\n",
    "\n",
    "cmap = plt.cm.plasma\n",
    "\n",
    "nx.draw(\n",
    "    G, pos, edge_color='black', width=2, linewidths=2,\n",
    "    node_size=300, node_color='pink', alpha=0.9, arrowstyle=\"->\",\n",
    "    arrowsize=25,\n",
    "    labels={node: node for node in G.nodes()}\n",
    ")\n",
    "\n",
    "# nodes = nx.draw_networkx_nodes(G, pos, node_size=300, node_color=\"indigo\", alpha=)\n",
    "# edges = nx.draw_networkx_edges(\n",
    "#     G,\n",
    "#     pos,\n",
    "#     node_size=3,\n",
    "#     arrowstyle=\"->\",\n",
    "#     arrowsize=10,\n",
    "#     edge_color='black',\n",
    "#     edge_cmap=cmap,\n",
    "#     width=2,\n",
    "# )\n",
    "# set alpha value for each edge\n",
    "\n",
    "\n",
    "ax = plt.gca()\n",
    "ax.set_axis_off()\n",
    "plt.show()"
   ]
  },
  {
   "cell_type": "code",
   "execution_count": null,
   "id": "afce56bf",
   "metadata": {},
   "outputs": [],
   "source": [
    "relative_dist_graph = mds.matrix_mask(dist_matrix, p2p_graph)\n",
    "\n",
    "# m = np.max(relative_dist_graph)\n",
    "# relative_dist_graph /= m\n",
    "# relative_dist_graph[relative_dist_graph == 0] = np.nan"
   ]
  },
  {
   "cell_type": "code",
   "execution_count": null,
   "id": "a2a178f9",
   "metadata": {},
   "outputs": [],
   "source": [
    "A = p2p_graph + np.eye(5)"
   ]
  },
  {
   "cell_type": "code",
   "execution_count": null,
   "id": "00f75dcc",
   "metadata": {},
   "outputs": [],
   "source": [
    "np.linalg.matrix_rank(relative_dist_graph)"
   ]
  },
  {
   "cell_type": "code",
   "execution_count": null,
   "id": "488a1274",
   "metadata": {
    "scrolled": false
   },
   "outputs": [],
   "source": [
    "np.linalg.eigvals(relative_dist_graph)"
   ]
  },
  {
   "cell_type": "code",
   "execution_count": null,
   "id": "2bfbcaf1",
   "metadata": {},
   "outputs": [],
   "source": [
    "def rmse(A,B):\n",
    "    rmse = np.sqrt(np.mean(((A-B)**2)))\n",
    "    print(\"RMSE: %.2f\" %rmse)\n",
    "    return rmse"
   ]
  },
  {
   "cell_type": "code",
   "execution_count": null,
   "id": "da59c2fa",
   "metadata": {},
   "outputs": [],
   "source": [
    "from matrix_completion import svt_solve, nuclear_norm_solve, pmf_solve, biased_mf_solve"
   ]
  },
  {
   "cell_type": "code",
   "execution_count": null,
   "id": "27437898",
   "metadata": {},
   "outputs": [],
   "source": [
    "from sklearn.impute import SimpleImputer\n",
    "imp = SimpleImputer(missing_values=np.nan, strategy='mean')\n",
    "\n",
    "a = imp.fit_transform(relative_dist_graph)"
   ]
  },
  {
   "cell_type": "code",
   "execution_count": null,
   "id": "9f9cbaa8",
   "metadata": {},
   "outputs": [],
   "source": [
    "rmse(dist_matrix, a)"
   ]
  },
  {
   "cell_type": "code",
   "execution_count": null,
   "id": "9d72a4bb",
   "metadata": {},
   "outputs": [],
   "source": [
    "X = Variable(dist_matrix.shape)\n",
    "obj = Minimize(norm(X*PM1, 'fro') + norm((PU1.T)*X, 'fro')) # norm frobenius: information from graphs\n",
    "constraints = [multiply(mat_mask, X) == multiply(mat_mask, np.array(UM))]\n",
    "prob = Problem(obj, constraints)\n",
    "prob.solve(solver=SCS)"
   ]
  },
  {
   "cell_type": "code",
   "execution_count": null,
   "id": "712af0b6",
   "metadata": {},
   "outputs": [],
   "source": []
  }
 ],
 "metadata": {
  "kernelspec": {
   "display_name": "Python 3 (ipykernel)",
   "language": "python",
   "name": "python3"
  },
  "language_info": {
   "codemirror_mode": {
    "name": "ipython",
    "version": 3
   },
   "file_extension": ".py",
   "mimetype": "text/x-python",
   "name": "python",
   "nbconvert_exporter": "python",
   "pygments_lexer": "ipython3",
   "version": "3.10.6"
  }
 },
 "nbformat": 4,
 "nbformat_minor": 5
}
