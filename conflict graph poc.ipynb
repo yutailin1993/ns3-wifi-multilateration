{
 "cells": [
  {
   "cell_type": "code",
   "execution_count": 1,
   "id": "664559bd",
   "metadata": {},
   "outputs": [],
   "source": [
    "%load_ext autoreload\n",
    "%autoreload 2"
   ]
  },
  {
   "cell_type": "code",
   "execution_count": 2,
   "id": "745edd2c",
   "metadata": {},
   "outputs": [],
   "source": [
    "import math\n",
    "import random\n",
    "import numpy as np\n",
    "import matplotlib.pyplot as plt\n",
    "import networkx as nx\n",
    "import graph\n",
    "from graph import LocMap, ConflictGraph, DistMatrixReconstruction\n",
    "from collections import defaultdict\n",
    "from labellines import labelLine, labelLines\n",
    "\n",
    "from cvxpy import *"
   ]
  },
  {
   "cell_type": "code",
   "execution_count": 3,
   "id": "fbe68f94",
   "metadata": {},
   "outputs": [
    {
     "data": {
      "text/plain": [
       "array([[ 2., -1.],\n",
       "       [-3.,  2.]])"
      ]
     },
     "execution_count": 3,
     "metadata": {},
     "output_type": "execute_result"
    }
   ],
   "source": [
    "def matrixInverse(inputM):\n",
    "            e0 = inputM[0, 0]\n",
    "            e1 = inputM[0, 1]\n",
    "            e2 = inputM[1, 0]\n",
    "            e3 = inputM[1, 1]\n",
    "            m = 1.0 / (e0*e3 - e1*e2)\n",
    "            matrix = np.array([[m*e3, m*(-e1)], [m*(-e2), m*e0]])\n",
    "            return matrix\n",
    "        \n",
    "matrix = np.array([[2, 1], [3, 2]])\n",
    "matrixInverse(matrix)"
   ]
  },
  {
   "cell_type": "code",
   "execution_count": 4,
   "id": "00480377",
   "metadata": {},
   "outputs": [],
   "source": [
    "def rmse(A,B):\n",
    "    rmse = np.sqrt(np.mean(((A-B)**2)))\n",
    "    return rmse"
   ]
  },
  {
   "cell_type": "code",
   "execution_count": 5,
   "id": "17df1845",
   "metadata": {},
   "outputs": [],
   "source": [
    "def construct_edges(node_num, p2p_graph, dist_matrix, num_edges):\n",
    "    link_edges = defaultdict(dict)\n",
    "    edge_no = 0\n",
    "    \n",
    "    labels = {}\n",
    "    comm_edges_list = []\n",
    "\n",
    "    for node_u in range(node_num):\n",
    "        for node_v in range(node_u+1, node_num):\n",
    "            if p2p_graph[node_u][node_v] == 1:\n",
    "                link_edges[edge_no] = {'u':node_u, 'v':node_v, 'dist':dist_matrix[node_u][node_v]}\n",
    "                edge_no += 1               \n",
    "\n",
    "    assert (edge_no == num_edges)\n",
    "    \n",
    "    for edge_no in range(int(num_edges)):\n",
    "        node_u = link_edges[edge_no]['u']\n",
    "        node_v = link_edges[edge_no]['v']\n",
    "        dist = link_edges[edge_no]['dist']\n",
    "    \n",
    "        comm_edges_list.append([node_u, node_v])\n",
    "        labels[tuple([node_u, node_v])] = edge_no\n",
    "    \n",
    "    return link_edges, comm_edges_list, labels\n",
    "\n",
    "def construct_conflict_edges(node_num, p2p_graph):\n",
    "    \n",
    "    conflict_edges_dict = defaultdict(dict)\n",
    "    edge_no = 0\n",
    "\n",
    "    conflict_edges_list = []\n",
    "\n",
    "    for node_u in range(node_num):\n",
    "        for node_v in range(node_u+1, node_num):\n",
    "            if p2p_graph[node_u][node_v] == 1:\n",
    "                conflict_edges_dict[edge_no] = {'u':node_u, 'v':node_v}\n",
    "                edge_no += 1               \n",
    "    \n",
    "    for edge_no in range(len(conflict_edges_dict)):\n",
    "        node_u = conflict_edges_dict[edge_no]['u']\n",
    "        node_v = conflict_edges_dict[edge_no]['v']\n",
    "    \n",
    "        conflict_edges_list.append([node_u, node_v])\n",
    "    \n",
    "    return conflict_edges_dict, conflict_edges_list"
   ]
  },
  {
   "cell_type": "code",
   "execution_count": null,
   "id": "29c0ca1b",
   "metadata": {},
   "outputs": [],
   "source": [
    "node_num = 30\n",
    "\n",
    "nodes_pos = graph.generate_nodes_pos(node_num, -20, 20)\n",
    "\n",
    "complete_dist_graph = graph.generate_complete_dist_graph(nodes_pos)\n",
    "\n",
    "# nodes_pos = np.array([[0,0], [2,0], [0, -1], [6, -1], [6, 3], [4,4]])"
   ]
  },
  {
   "cell_type": "code",
   "execution_count": null,
   "id": "4dfa982b",
   "metadata": {
    "scrolled": true
   },
   "outputs": [],
   "source": [
    "loc_pos = LocMap(nodes_pos, K=4)\n",
    "loc_pos.HennenburgConstruction(random.randint(0, node_num))\n",
    "loc_pos.ConstructEdgesK()\n",
    "S = loc_pos.trilateration_ordering_check()\n",
    "\n",
    "\n",
    "p2p_graph = loc_pos.get_graph()\n",
    "dist_matrix = loc_pos.get_dist_matrix()\n",
    "\n",
    "link_edges, comm_edges_list, labels = construct_edges(node_num, p2p_graph, dist_matrix, np.count_nonzero(p2p_graph == 1)/2)\n"
   ]
  },
  {
   "cell_type": "code",
   "execution_count": 7,
   "id": "eb8271db",
   "metadata": {},
   "outputs": [],
   "source": [
    "nodes_pos = np.loadtxt(\"node_pos.csv\", delimiter=\",\", dtype=np.double)\n",
    "dist_matrix = np.loadtxt(\"dist_matrix.csv\", delimiter=\",\", dtype=np.double)\n",
    "estimated_dist_matrix = np.loadtxt(\"measured_dist_matrix.csv\", delimiter=\",\", dtype=np.double)\n",
    "active_EDM = np.loadtxt(\"active_EDM.csv\", delimiter=\",\", dtype=np.double)\n",
    "passive_EDM = np.loadtxt(\"passive_EDM.csv\", delimiter=\",\", dtype=np.double)\n",
    "\n",
    "p2p_graph = np.zeros((dist_matrix.shape[0], dist_matrix.shape[1]))\n",
    "assert (p2p_graph.shape[0] == p2p_graph.shape[1] == 30)\n",
    "    \n",
    "for i in range(p2p_graph.shape[0]):\n",
    "    for j in range(p2p_graph.shape[1]):\n",
    "        p2p_graph[i, j] = 1 if estimated_dist_matrix[i, j] != 0 else 0\n",
    "        \n",
    "active_p2p_graph = np.zeros((dist_matrix.shape[0], dist_matrix.shape[1]))\n",
    "assert (active_p2p_graph.shape[0] == active_p2p_graph.shape[1] == 30)\n",
    "    \n",
    "for i in range(active_p2p_graph.shape[0]):\n",
    "    for j in range(active_p2p_graph.shape[1]):\n",
    "        active_p2p_graph[i, j] = 1 if active_EDM[i, j] != 0 else 0\n",
    "        \n",
    "passive_p2p_graph = np.zeros((dist_matrix.shape[0], dist_matrix.shape[1]))\n",
    "assert (passive_p2p_graph.shape[0] == passive_p2p_graph.shape[1] == 30)\n",
    "    \n",
    "for i in range(passive_p2p_graph.shape[0]):\n",
    "    for j in range(passive_p2p_graph.shape[1]):\n",
    "        passive_p2p_graph[i, j] = 1 if passive_EDM[i, j] != 0 else 0"
   ]
  },
  {
   "cell_type": "code",
   "execution_count": 39,
   "id": "5e796345",
   "metadata": {},
   "outputs": [],
   "source": [
    "passive_p2p_cpy = passive_p2p_graph.copy()\n",
    "\n",
    "for i in range(passive_p2p_cpy.shape[0]):\n",
    "    for j in range(i+1, passive_p2p_cpy.shape[1]):\n",
    "        if passive_p2p_cpy[i, j] != 0 and i != j:\n",
    "            if random.random() >= 2:\n",
    "                passive_p2p_cpy[i, j] = 0\n",
    "                passive_p2p_cpy[j, i] = 0\n",
    "\n",
    "new_passive = np.multiply(passive_p2p_cpy, passive_EDM)\n",
    "new_EDM = active_EDM.copy()\n",
    "\n",
    "for i in range(30):\n",
    "    for j in range(i+1, 30):\n",
    "        if new_passive[i, j] != 0:\n",
    "            if (new_EDM[i, j] != 0):\n",
    "                new_EDM[i, j] = (new_EDM[i, j] + new_passive[i, j]) / 2\n",
    "                new_EDM[j, i] = (new_EDM[j, i] + new_passive[j, i]) / 2\n",
    "            else:\n",
    "                new_EDM[i, j] = (new_EDM[i, j] + new_passive[i, j])\n",
    "                new_EDM[j, i] = (new_EDM[j, i] + new_passive[j, i])\n",
    "            \n",
    "new_p2p = np.zeros((30, 30))\n",
    "\n",
    "for i in range(30):\n",
    "    for j in range(30):\n",
    "        if (new_EDM[i, j] != 0):\n",
    "            new_p2p[i, j] = 1\n",
    "            \n",
    "assert(np.allclose(new_p2p, new_p2p.T, rtol=10e-5, atol=10e-5))"
   ]
  },
  {
   "cell_type": "code",
   "execution_count": 40,
   "id": "679fd049",
   "metadata": {
    "scrolled": true
   },
   "outputs": [
    {
     "name": "stdout",
     "output_type": "stream",
     "text": [
      "True\n",
      "0.7954022988505747\n",
      "0.2861271676300578\n"
     ]
    }
   ],
   "source": [
    "print (np.allclose(new_EDM, new_EDM.T, rtol=10e-5, atol=10e-5))\n",
    "print ((np.count_nonzero(new_EDM)+new_EDM.shape[0]) / (new_EDM.shape[0] * (new_EDM.shape[0]-1)))\n",
    "print ((np.count_nonzero(active_EDM)+30) / (np.count_nonzero(new_EDM)+30))"
   ]
  },
  {
   "cell_type": "code",
   "execution_count": 41,
   "id": "9ef49b58",
   "metadata": {
    "scrolled": true
   },
   "outputs": [
    {
     "data": {
      "text/plain": [
       "1.3487562484783873"
      ]
     },
     "execution_count": 41,
     "metadata": {},
     "output_type": "execute_result"
    }
   ],
   "source": [
    "rmse(new_EDM, np.multiply(new_p2p, dist_matrix))"
   ]
  },
  {
   "cell_type": "code",
   "execution_count": 84,
   "id": "6c8e43b8",
   "metadata": {
    "scrolled": true
   },
   "outputs": [
    {
     "data": {
      "text/plain": [
       "1.9549279479109807"
      ]
     },
     "execution_count": 84,
     "metadata": {},
     "output_type": "execute_result"
    }
   ],
   "source": [
    "recon = DistMatrixReconstruction(new_EDM, new_EDM.shape[0])\n",
    "\n",
    "D = recon.EDM_Completion(0.1, 0.03, 500)\n",
    "\n",
    "rmse(D, dist_matrix)"
   ]
  },
  {
   "cell_type": "code",
   "execution_count": 85,
   "id": "4e5ea291",
   "metadata": {
    "scrolled": true
   },
   "outputs": [
    {
     "data": {
      "text/plain": [
       "0.42057353155168004"
      ]
     },
     "execution_count": 85,
     "metadata": {},
     "output_type": "execute_result"
    }
   ],
   "source": [
    "from sklearn.manifold import MDS\n",
    "\n",
    "mds = MDS(n_components=2, max_iter=3000, eps=1e-9, dissimilarity=\"precomputed\", normalized_stress='auto')\n",
    "\n",
    "node_locations = mds.fit_transform(D)\n",
    "e = graph.mds_relative_to_absolute_scale(node_locations, [0, 1, 2], nodes_pos[:3])\n",
    "\n",
    "rmse(e, nodes_pos)"
   ]
  },
  {
   "cell_type": "code",
   "execution_count": 44,
   "id": "68e17522",
   "metadata": {
    "scrolled": true
   },
   "outputs": [
    {
     "ename": "NameError",
     "evalue": "name 'node_num' is not defined",
     "output_type": "error",
     "traceback": [
      "\u001b[0;31m---------------------------------------------------------------------------\u001b[0m",
      "\u001b[0;31mNameError\u001b[0m                                 Traceback (most recent call last)",
      "Input \u001b[0;32mIn [44]\u001b[0m, in \u001b[0;36m<cell line: 10>\u001b[0;34m()\u001b[0m\n\u001b[1;32m      1\u001b[0m \u001b[38;5;66;03m# node_idx = ['A', 'B', 'C', 'D', 'E', 'F', 'G', 'H', 'I', 'J', 'K', 'L',\u001b[39;00m\n\u001b[1;32m      2\u001b[0m \u001b[38;5;66;03m#             'M', 'N', 'O', 'P', 'Q', 'R', 'S', 'T', 'U', 'V', 'W', 'X',\u001b[39;00m\n\u001b[1;32m      3\u001b[0m \u001b[38;5;66;03m#             'Y', 'Z', 'AA', 'AB', 'AC', 'AD', 'AE', 'AF', 'AG', 'AG', 'AI',\u001b[39;00m\n\u001b[0;32m   (...)\u001b[0m\n\u001b[1;32m      7\u001b[0m \u001b[38;5;66;03m#             'BN', 'BO', 'BP', 'BQ', 'BR', 'BS', 'BT', 'BU', 'BV', 'BW',\u001b[39;00m\n\u001b[1;32m      8\u001b[0m \u001b[38;5;66;03m#             'BX', 'BY', 'BZ']\u001b[39;00m\n\u001b[0;32m---> 10\u001b[0m link_edges, comm_edges_list, labels \u001b[38;5;241m=\u001b[39m construct_edges(\u001b[43mnode_num\u001b[49m, p2p_graph, dist_matrix, np\u001b[38;5;241m.\u001b[39mcount_nonzero(p2p_graph \u001b[38;5;241m==\u001b[39m \u001b[38;5;241m1\u001b[39m)\u001b[38;5;241m/\u001b[39m\u001b[38;5;241m2\u001b[39m)\n\u001b[1;32m     11\u001b[0m node_idx \u001b[38;5;241m=\u001b[39m [x \u001b[38;5;28;01mfor\u001b[39;00m x \u001b[38;5;129;01min\u001b[39;00m \u001b[38;5;28mrange\u001b[39m(node_num)]\n\u001b[1;32m     13\u001b[0m G \u001b[38;5;241m=\u001b[39m nx\u001b[38;5;241m.\u001b[39mGraph()\n",
      "\u001b[0;31mNameError\u001b[0m: name 'node_num' is not defined"
     ]
    }
   ],
   "source": [
    "# node_idx = ['A', 'B', 'C', 'D', 'E', 'F', 'G', 'H', 'I', 'J', 'K', 'L',\n",
    "#             'M', 'N', 'O', 'P', 'Q', 'R', 'S', 'T', 'U', 'V', 'W', 'X',\n",
    "#             'Y', 'Z', 'AA', 'AB', 'AC', 'AD', 'AE', 'AF', 'AG', 'AG', 'AI',\n",
    "#             'AJ', 'AK', 'AL', 'AM', 'AN', 'AO', 'AP', 'AQ', 'AR', 'AS',\n",
    "#             'AT', 'AU', 'AV', 'AW', 'AX', 'AY', 'AZ', 'BA', 'BB', 'BC',\n",
    "#             'BD', 'BE', 'BF', 'BG', 'BH', 'BI', 'BJ', 'BK', 'BL', 'BM',\n",
    "#             'BN', 'BO', 'BP', 'BQ', 'BR', 'BS', 'BT', 'BU', 'BV', 'BW',\n",
    "#             'BX', 'BY', 'BZ']\n",
    "\n",
    "link_edges, comm_edges_list, labels = construct_edges(node_num, p2p_graph, dist_matrix, np.count_nonzero(p2p_graph == 1)/2)\n",
    "node_idx = [x for x in range(node_num)]\n",
    "\n",
    "G = nx.Graph()\n",
    "G.add_edges_from(comm_edges_list)\n",
    "pos = nodes_pos\n",
    "# pos = {0: (0, 0), 1: (2, 0), 2: (0, -1), 3: (6, -1), 4: (6, 3), 5: (4, 4)} \n",
    "plt.figure(figsize=(8,6))\n",
    "\n",
    "plt.xlabel('X axis (m)', fontsize=16)\n",
    "plt.ylabel('Y axis (m)', fontsize=16)\n",
    "\n",
    "nx.draw(\n",
    "    G, pos, edge_color='red', width=1, linewidths=1,\n",
    "    node_size=300, node_color='Yellow', alpha=0.9,\n",
    "    labels={node: node_idx[node] for node in G.nodes()}\n",
    ")\n",
    "\n",
    "nx.draw_networkx_edge_labels(\n",
    "    G, pos,\n",
    "    edge_labels=labels,\n",
    "    font_color='black'\n",
    ")\n",
    "\n",
    "plt.axis('on')\n",
    "plt.show()"
   ]
  },
  {
   "cell_type": "code",
   "execution_count": null,
   "id": "eb4ac35e",
   "metadata": {},
   "outputs": [],
   "source": [
    "noise = np.random.normal(0,2.5,(node_num, node_num))\n",
    "noise_symm = (noise + noise.T)/2\n",
    "\n",
    "np.allclose(noise_symm, noise_symm.T, rtol=10e-5, atol=10e-5)"
   ]
  },
  {
   "cell_type": "code",
   "execution_count": null,
   "id": "68c26468",
   "metadata": {},
   "outputs": [],
   "source": [
    "masked_dist_matrix = np.multiply(p2p_graph, dist_matrix)\n",
    "noise_matrix = np.multiply(p2p_graph, noise_symm)\n",
    "\n",
    "\n",
    "# estimated_dist_matrix = masked_dist_matrix + noise_matrix"
   ]
  },
  {
   "cell_type": "code",
   "execution_count": null,
   "id": "c06c89bc",
   "metadata": {
    "scrolled": false
   },
   "outputs": [],
   "source": [
    "rmse(D, dist_matrix)"
   ]
  },
  {
   "cell_type": "code",
   "execution_count": null,
   "id": "af94a452",
   "metadata": {
    "scrolled": true
   },
   "outputs": [],
   "source": [
    "e"
   ]
  },
  {
   "cell_type": "code",
   "execution_count": null,
   "id": "7024e88c",
   "metadata": {
    "scrolled": true
   },
   "outputs": [],
   "source": [
    "nodes_pos"
   ]
  },
  {
   "cell_type": "code",
   "execution_count": null,
   "id": "97976582",
   "metadata": {
    "scrolled": false
   },
   "outputs": [],
   "source": [
    "rmse(e, nodes_pos)"
   ]
  },
  {
   "cell_type": "code",
   "execution_count": null,
   "id": "6440f691",
   "metadata": {},
   "outputs": [],
   "source": [
    "re_cp = graph.generate_complete_dist_graph(node_locations)\n",
    "sa_cp = graph.generate_complete_dist_graph(nodes_pos)\n",
    "e_cp = graph.generate_complete_dist_graph(e)"
   ]
  },
  {
   "cell_type": "code",
   "execution_count": null,
   "id": "86db87a6",
   "metadata": {},
   "outputs": [],
   "source": [
    "independent_sets = {0: [0, 17, 4, 40, 81, 97, 60],\n",
    "                    1: [1, 17, 60, 95, 4, 120, 40, 82],\n",
    "                    2: [2, 15, 32, 41, 60, 113, 4, 95], \n",
    "                    3: [3, 17, 4, 40, 81, 97, 60], \n",
    "                    4: [4, 97, 40, 82, 60, 41, 120, 1], \n",
    "                    5: [5, 97, 40, 82, 60, 41, 21, 57], \n",
    "                    6: [6, 97, 40, 82, 60, 41, 21, 57], \n",
    "                    7: [7, 4, 82, 40, 17, 97, 34], \n",
    "                    8: [8, 4, 60, 95, 16, 15, 32, 107], \n",
    "                    9: [9, 4, 97, 126, 31, 15, 20, 60], \n",
    "                    10: [10, 17, 60, 4, 95, 40, 81], \n",
    "                    11: [11, 17, 60, 95, 4, 120, 40, 82], \n",
    "                    12: [12, 16, 15, 32, 44, 95, 4], \n",
    "                    13: [13, 32, 41, 60, 97, 4, 107, 75], \n",
    "                    14:[14, 4, 82, 97, 60, 41, 120, 1], \n",
    "                    15: [15, 32, 4, 97, 107, 60, 41, 77, 27], \n",
    "                    16: [16, 15, 32, 60, 97, 4, 107, 0], \n",
    "                    17: [17, 40, 4, 82, 97, 60, 120, 1], \n",
    "                    18: [18, 40, 4, 82, 97, 60, 120, 11], \n",
    "                    19: [19, 60, 15, 32, 97, 4, 107, 0], \n",
    "                    20: [20, 15, 32, 60, 97, 4, 107, 8],\n",
    "                    21: [21, 40, 41, 60, 82, 97, 4, 57],\n",
    "                    22: [22, 40, 82, 41, 60, 97, 4, 75],\n",
    "                    23: [23, 40, 4, 82, 97, 60, 120, 144], \n",
    "                    24: [24, 40, 4, 82, 97, 60, 57], \n",
    "                    25: [25, 40, 82, 41, 60, 97, 4, 75], \n",
    "                    26: [26, 40, 4, 82, 97, 60, 57], \n",
    "                    27: [27, 15, 32, 41, 60, 44, 95, 4], \n",
    "                    28:[28, 15, 32, 41, 60, 95, 113, 4], \n",
    "                    29: [29, 15, 32, 41, 60, 95, 113, 4], \n",
    "                    30: [30, 4, 97, 81, 60, 41, 77, 21], \n",
    "                    31: [31, 4, 97, 126, 15, 60, 41, 52, 76], \n",
    "                    32: [32, 4, 97, 15, 107, 60, 41, 77, 27], \n",
    "                    33: [33, 95, 15, 32, 44, 4], \n",
    "                    34: [34, 95, 4, 17, 40, 82, 7], \n",
    "                    35: [35, 97, 4, 17, 40, 82, 7], \n",
    "                    36: [36, 95, 4, 17, 40, 82, 7], \n",
    "                    37: [37, 82, 41, 60, 97, 4,75], \n",
    "                    38: [38, 4, 97, 107, 60, 41, 77, 21], \n",
    "                    39: [39, 4, 97, 126, 60, 41, 0], \n",
    "                    40: [40, 4, 82, 97, 60, 41, 120, 1], \n",
    "                    41: [41, 60, 97, 4, 40, 82, 120, 1], \n",
    "                    42: [42, 15, 32, 60, 97, 4, 107, 8], \n",
    "                    43: [43, 32, 4, 15, 97, 20, 60], \n",
    "                    44: [44, 32, 15, 4, 97, 77, 60, 27, 41], \n",
    "                    45: [45, 4, 120, 97, 60, 11, 16], 46: [46, 60, 15, 32, 44, 95, 4], 47: [47, 60, 15, 3\n",
    "2, 95, 113, 4], 48: [48, 97, 15, 32, 4, 43], 49: [49, 60, 15, 32, 95, 44, 4], 50: [50, 15, 32, 95, 44, 4], 51: [51, 40, 82, 41, 60, 97, 4, 75], 52: [52, 15, 32, 41, 60, 4, 1\n",
    "7, 97, 76], 53: [53, 15, 32, 41, 60, 95, 113, 4], 54: [54, 82, 40, 97, 60, 41, 1], 55: [55, 97, 40, 82, 60, 41, 85, 21], 56: [56, 97, 40, 82, 60, 41, 85, 21], 57: [57, 4, 8\n",
    "2, 40, 97, 60, 21, 41], 58: [58, 4, 60, 95, 82, 40, 21, 41], 59: [59, 4, 82, 40, 17, 97, 34], 60: [60, 97, 4, 40, 82, 41, 120, 1], 61: [61, 97, 4, 41, 40, 82, 120, 2], 62: [\n",
    "62, 97, 4, 40, 82, 120, 11, 16], 63: [63, 40, 4, 82, 97, 60, 120, 11], 64: [64, 40, 60, 97, 4, 82, 7], 65: [65, 32, 4, 15, 97, 20, 60], 66: [66, 4, 60, 95, 82, 40, 21, 41],\n",
    "67: [67, 4, 97, 82, 40, 60, 21, 41], 68: [68, 40, 4, 97, 143, 21, 41], 69: [69, 4, 82, 40, 17, 97, 34], 70: [70, 31, 4, 15, 97, 20, 60], 71: [71, 4, 97, 15, 60, 41, 120, 1],\n",
    " 72: [72, 4, 97, 126, 15, 60, 41, 52, 76], 73: [73, 4, 97, 15, 60, 41, 120, 1], 74: [74, 4, 97, 126, 60, 41, 0], 75: [75, 4, 97, 60, 41, 21, 40, 44], 76: [76, 4, 97, 60, 41,\n",
    " 52, 15, 32, 107], 77: [77, 4, 97, 60, 107, 32, 15, 41, 27], 78: [78, 40, 82, 41, 60, 97, 4, 76], 79: [79, 40, 41, 60, 82, 95, 4, 120], 80: [80, 41, 60, 97, 4, 126, 75], 81:\n",
    " [81, 30, 4, 97, 60, 41, 77, 21], 82: [82, 40, 4, 97, 60, 41, 120, 1], 83: [83, 4, 95, 60, 41, 21, 40, 44], 84: [84, 95, 60, 4, 41, 21, 40, 81], 85: [85, 60, 97, 4, 41, 21,\n",
    "40, 44], 86: [86, 40, 82, 60, 95, 4, 120], 87: [87, 4, 40, 81, 97, 34], 88: [88, 40, 60, 97, 4, 82, 7], 89: [89, 97, 40, 82, 60, 41, 21, 57], 90: [90, 97, 60, 107, 32, 15, 4\n",
    "1, 27], 91: [91, 97, 40, 82, 60, 41, 21, 57], 92: [92, 4, 95, 60, 41, 21, 40, 81], 93: [93, 60, 4, 97, 41, 52, 15, 32, 107], 94: [94, 4, 95, 60, 41, 13, 32, 44], 95: [95, 60\n",
    ", 4, 40, 82, 41, 120, 1], 96: [96, 60, 4, 40, 82, 120, 41, 1], 97: [97, 4, 40, 82, 60, 41, 120, 1], 98: [98, 97, 4, 40, 82, 120, 2], 99: [99, 97, 4, 40, 82, 120, 11, 17], 10\n",
    "0: [100, 97, 4, 41, 40, 82, 120, 2], 101: [101, 97, 4, 40, 82, 120, 144, 17], 102: [102, 4, 40, 82, 120, 41, 1], 103: [103, 97, 4, 40, 82, 120, 11, 16], 104: [104, 95, 60, 4\n",
    "0, 82, 41, 21, 57], 105: [105, 40, 82, 60, 41, 54, 1], 106: [106, 95, 60, 40, 82, 41, 21, 57], 107: [107, 32, 4, 97, 15, 60, 41, 77, 27], 108: [108, 40, 4, 97, 60, 41, 77, 2\n",
    "1], 109: [109, 40, 4, 97, 60, 41, 77, 21], 110: [110, 4, 97, 60, 41, 77, 27], 111: [111, 32, 4, 97, 60, 41, 77, 21], 112: [112, 32, 4, 15, 60, 41, 77, 27], 113: [113, 32, 4,\n",
    " 97, 15, 60, 41, 52, 76], 114: [114, 15, 32, 41, 60, 95, 113, 4], 115: [115, 15, 32, 41, 60, 95, 113, 4], 116: [116, 17, 40, 4, 81, 97, 34], 117: [117, 15, 32, 41, 60, 95, 1\n",
    "13, 4], 118: [118, 15, 32, 41, 60, 95, 113, 4], 119: [119, 82, 40, 97, 60, 41, 1], 120: [120, 4, 82, 40, 97, 60, 41, 1], 121: [121, 4, 97, 82, 40, 60, 41, 21], 122: [122, 4,\n",
    " 31, 97, 15, 60, 41, 1], 123: [123, 60, 95, 41, 21, 40, 81], 124: [124, 97, 60, 41, 27, 15, 32, 44], 125: [125, 97, 40, 82, 60, 41, 21, 57], 126: [126, 4, 31, 97, 15, 60, 41\n",
    ", 52, 76], 127: [127, 41, 60, 15, 32, 113, 4, 95], 128: [128, 4, 95, 60, 41, 21, 40, 81], 129: [129, 17, 60, 4, 95, 40, 81], 130: [130, 4, 60, 95, 16, 15, 32, 107], 131: [13\n",
    "1, 4, 97, 40, 82, 120, 143, 21], 132: [132, 60, 15, 32, 97, 4, 107, 8], 133: [133, 15, 32, 41, 60, 95, 113, 4], 134: [134, 15, 41, 60, 32, 113, 4, 95], 135: [135, 15, 32, 11\n",
    "3, 4, 41, 60, 95], 136: [136, 41, 60, 15, 32, 113, 4, 95], 137: [137, 15, 32, 113, 4, 41, 60, 95], 138: [138, 15, 32, 60, 95, 113, 4], 139: [139, 4, 40, 82, 120, 41, 2], 140\n",
    ": [140, 4, 60, 40, 82, 41, 120, 1], 141: [141, 60, 4, 40, 82, 120, 41, 1], 142: [142, 4, 60, 40, 82, 41, 120, 1], 143: [143, 97, 4, 120, 82, 40, 41, 21], 144: [144, 60, 41,\n",
    "97, 4, 120, 13, 31], 145: [145, 60, 4, 120, 82, 40, 41, 21], 146: [146, 4, 40, 82, 120, 41, 2], 147: [147, 97, 4, 40, 82, 120, 2], 148: [148, 4, 95, 60, 41, 13, 32, 44], 149\n",
    ": [149, 4, 97, 60, 16, 15, 32, 107], 150: [150, 97, 60, 107, 32, 15, 41, 27], 151: [151, 4, 60, 107, 32, 15, 41, 27], 152: [152, 4, 60, 107, 32, 15, 41, 27], 153: [153, 40,\n",
    "4, 97, 60, 41, 120, 1], 154: [154, 4, 60, 40, 82, 120, 41, 1], 155: [155, 4, 40, 82, 60, 41, 120, 1], 156: [156, 17, 60, 4, 95, 40, 81], 157: [157, 60, 15, 32, 44, 95, 4], 1\n",
    "58: [158, 4, 97, 60, 41, 120, 1], 159: [159, 4, 97, 60, 41, 120, 1], 160: [160, 40, 4, 97, 60, 41, 21, 75], 161: [161, 15, 32, 4, 97, 107, 8], 162: [162, 97, 4, 40, 82, 120,\n",
    " 11, 17], 163: [163, 15, 32, 113, 4, 97, 60], 164: [164, 31, 15, 4, 20, 97, 60], 165: [165, 60, 40, 82, 41, 21, 57], 166: [166, 31, 97, 15, 60, 41, 52, 93], 167: [167, 32, 6\n",
    "0, 97, 4, 107, 8], 168: [168, 15, 32, 97, 4, 107, 8], 169: [169, 4, 40, 82, 120, 11, 16], 170: [170, 4, 60, 40, 82, 120, 41, 1], 171: [171, 4, 40, 82, 120, 11, 16], 172: [17\n",
    "2, 4, 97, 31, 15, 16, 0], 173: [173, 4, 31, 15, 60, 41, 52, 76]}\n",
    "\n",
    "total_element_cnt = 0\n",
    "\n",
    "for i in independent_sets:\n",
    "    print (i)"
   ]
  },
  {
   "cell_type": "code",
   "execution_count": null,
   "id": "3c32e79a",
   "metadata": {
    "scrolled": true
   },
   "outputs": [],
   "source": [
    "e"
   ]
  },
  {
   "cell_type": "code",
   "execution_count": null,
   "id": "599f99a5",
   "metadata": {
    "scrolled": true
   },
   "outputs": [],
   "source": [
    "nodes_pos"
   ]
  },
  {
   "cell_type": "code",
   "execution_count": null,
   "id": "ebc4829e",
   "metadata": {
    "scrolled": false
   },
   "outputs": [],
   "source": [
    "node_locations"
   ]
  },
  {
   "cell_type": "code",
   "execution_count": null,
   "id": "15e8cdf5",
   "metadata": {
    "scrolled": true
   },
   "outputs": [],
   "source": [
    "rmse(e_cp, sa_cp)"
   ]
  },
  {
   "cell_type": "code",
   "execution_count": null,
   "id": "69c4f4fd",
   "metadata": {},
   "outputs": [],
   "source": [
    "re_cp"
   ]
  },
  {
   "cell_type": "code",
   "execution_count": null,
   "id": "1487ecd1",
   "metadata": {},
   "outputs": [],
   "source": [
    "sa_cp"
   ]
  },
  {
   "cell_type": "code",
   "execution_count": null,
   "id": "39c47407",
   "metadata": {},
   "outputs": [],
   "source": [
    "def euclidean_dist(pos_a, pos_b):\n",
    "    return math.dist(pos_a, pos_b)\n",
    "\n",
    "def mds_relative_to_absolute_scale(estimated_coordinates, indices_of_anchors, anchors_true_coordinates):\n",
    "    A = np.transpose(estimated_coordinates[indices_of_anchors,:])\n",
    "    B = np.transpose(anchors_true_coordinates)\n",
    "    estimated_coordinates = np.transpose(estimated_coordinates)\n",
    "\n",
    "    assert (A.shape == B.shape)\n",
    "    \n",
    "    print (\"A: \\n{}\".format(A))\n",
    "    print (\"B: \\n{}\".format(B))\n",
    "\n",
    "    all_estimate_coordinates = estimated_coordinates\n",
    "    num_of_points = estimated_coordinates.shape[1]\n",
    "    \n",
    "    print (num_of_points)\n",
    "    \n",
    "    def rigid_transform_3D(A,B):\n",
    "        dimension, num_anchors = A.shape\n",
    "        \n",
    "        # find scale\n",
    "        anchor_dist_A = np.zeros((num_anchors, num_anchors))\n",
    "        anchor_dist_B = np.zeros((num_anchors, num_anchors))\n",
    "\n",
    "        for i in range(num_anchors):\n",
    "            for j in range(num_anchors):\n",
    "                anchor_dist_A[i][j] = euclidean_dist(A[:, i], A[:, j])\n",
    "                anchor_dist_B[i][j] = euclidean_dist(B[:, i], B[:, j])\n",
    "        \n",
    "        scale_matrix = np.divide(anchor_dist_B, anchor_dist_A, out=np.zeros_like(anchor_dist_A), where=anchor_dist_B!=0)\n",
    "        total_n = 0\n",
    "        cnt = 0\n",
    "        for i in range(0, scale_matrix.shape[1]):\n",
    "            for j in range(i+1, scale_matrix.shape[1]):\n",
    "                total_n += scale_matrix[i, j]\n",
    "                cnt += 1\n",
    "        scale = total_n / cnt\n",
    "        A = scale*A\n",
    "\n",
    "        # find rotation\n",
    "        centroid_A = np.expand_dims(np.mean(A, axis=1), axis=1)\n",
    "        centroid_B = np.expand_dims(np.mean(B, axis=1), axis=1)\n",
    "        \n",
    "        diff_A = A - np.tile(centroid_A, (1, num_anchors))\n",
    "        diff_B = B - np.tile(centroid_B, (1, num_anchors))\n",
    "\n",
    "        H = diff_A @ np.transpose(diff_B)\n",
    "\n",
    "        u, _, v = np.linalg.svd(H)\n",
    "\n",
    "        rotation = v.T @ u.T\n",
    "\n",
    "        # find translation\n",
    "        translation = np.matmul(-rotation, centroid_A) + centroid_B\n",
    "\n",
    "        return rotation, translation, scale\n",
    "\n",
    "    rotation, translation, scale = rigid_transform_3D(A, B)\n",
    "    \n",
    "    # print (\"Rotation: \\n{},\\nTranslation: \\n{},\\nScale: {}\".format(rotation, translation, scale))\n",
    "\n",
    "    estimated_coord_mds = np.matmul(rotation, (scale*all_estimate_coordinates)) + np.tile(translation, (1, num_of_points))\n",
    "\n",
    "    return np.transpose(estimated_coord_mds)"
   ]
  },
  {
   "cell_type": "code",
   "execution_count": null,
   "id": "d9c5db7e",
   "metadata": {
    "scrolled": true
   },
   "outputs": [],
   "source": [
    "e = mds_relative_to_absolute_scale(node_locations, [0, 1, 2], nodes_pos[:3])\n",
    "\n",
    "\n",
    "print ()\n",
    "print (nodes_pos)\n",
    "print (e)\n"
   ]
  },
  {
   "cell_type": "code",
   "execution_count": null,
   "id": "565e6e03",
   "metadata": {},
   "outputs": [],
   "source": [
    "node_idx = ['A', 'B', 'C', 'D', 'E', 'F', 'G', 'H', 'I', 'J', 'K', 'L',\n",
    "            'M', 'N', 'O', 'P', 'Q', 'R', 'S', 'T', 'U', 'V', 'W', 'X',\n",
    "            'Y', 'Z', 'AA', 'AB', 'AC', 'AD', 'AE', 'AF', 'AG', 'AG', 'AI',\n",
    "            'AJ', 'AK', 'AL', 'AM', 'AN', 'AO', 'AP', 'AQ', 'AR', 'AS',\n",
    "            'AT', 'AU', 'AV', 'AW', 'AX', 'AY', 'AZ', 'BA', 'BB', 'BC',\n",
    "            'BD', 'BE', 'BF', 'BG', 'BH', 'BI', 'BJ', 'BK', 'BL', 'BM',\n",
    "            'BN', 'BO', 'BP', 'BQ', 'BR', 'BS', 'BT', 'BU', 'BV', 'BW',\n",
    "            'BX', 'BY', 'BZ']\n",
    "\n",
    "G = nx.Graph()\n",
    "G.add_edges_from(comm_edges_list)\n",
    "pos = nodes_pos\n",
    "# pos = {0: (0, 0), 1: (2, 0), 2: (0, -1), 3: (6, -1), 4: (6, 3), 5: (4, 4)} \n",
    "plt.figure(figsize=(8,6))\n",
    "\n",
    "plt.xlabel('X axis (m)', fontsize=16)\n",
    "plt.ylabel('Y axis (m)', fontsize=16)\n",
    "\n",
    "nx.draw(\n",
    "    G, pos, edge_color='red', width=1, linewidths=1,\n",
    "    node_size=300, node_color='Yellow', alpha=0.9,\n",
    "    labels={node: node_idx[node] for node in G.nodes()}\n",
    ")\n",
    "\n",
    "nx.draw_networkx_edge_labels(\n",
    "    G, pos,\n",
    "    edge_labels=labels,\n",
    "    font_color='black'\n",
    ")\n",
    "\n",
    "plt.axis('on')\n",
    "plt.show()"
   ]
  },
  {
   "cell_type": "code",
   "execution_count": null,
   "id": "a0013dc4",
   "metadata": {},
   "outputs": [],
   "source": [
    "node_idx = ['A', 'B', 'C', 'D', 'E', 'F', 'G', 'H', 'I', 'J', 'K', 'L',\n",
    "            'M', 'N', 'O', 'P', 'Q', 'R', 'S', 'T', 'U', 'V', 'W', 'X',\n",
    "            'Y', 'Z', 'AA', 'AB', 'AC', 'AD', 'AE', 'AF', 'AG', 'AG', 'AI',\n",
    "            'AJ', 'AK', 'AL', 'AM', 'AN', 'AO', 'AP', 'AQ', 'AR', 'AS',\n",
    "            'AT', 'AU', 'AV', 'AW', 'AX', 'AY', 'AZ', 'BA', 'BB', 'BC',\n",
    "            'BD', 'BE', 'BF', 'BG', 'BH', 'BI', 'BJ', 'BK', 'BL', 'BM',\n",
    "            'BN', 'BO', 'BP', 'BQ', 'BR', 'BS', 'BT', 'BU', 'BV', 'BW',\n",
    "            'BX', 'BY', 'BZ']\n",
    "\n",
    "G = nx.Graph()\n",
    "G.add_edges_from(comm_edges_list)\n",
    "pos = e\n",
    "# pos = {0: (0, 0), 1: (2, 0), 2: (0, -1), 3: (6, -1), 4: (6, 3), 5: (4, 4)} \n",
    "plt.figure(figsize=(8,6))\n",
    "\n",
    "plt.xlabel('X axis (m)', fontsize=16)\n",
    "plt.ylabel('Y axis (m)', fontsize=16)\n",
    "\n",
    "nx.draw(\n",
    "    G, pos, edge_color='red', width=1, linewidths=1,\n",
    "    node_size=300, node_color='Yellow', alpha=0.9,\n",
    "    labels={node: node_idx[node] for node in G.nodes()}\n",
    ")\n",
    "\n",
    "nx.draw_networkx_edge_labels(\n",
    "    G, pos,\n",
    "    edge_labels=labels,\n",
    "    font_color='black'\n",
    ")\n",
    "\n",
    "plt.axis('on')\n",
    "plt.show()"
   ]
  },
  {
   "cell_type": "code",
   "execution_count": null,
   "id": "87bacda7",
   "metadata": {},
   "outputs": [],
   "source": [
    "conf_graph_obj = ConflictGraph(node_num, nodes_pos, dist_matrix, p2p_graph, link_edges)\n",
    "\n",
    "conf_graph_obj.construct_conflict_graph()\n",
    "conf_graph_obj.construct_independent_sets_by_edges()\n",
    "\n",
    "conf_graph = conf_graph_obj.get_conflict_graph()\n",
    "independent_sets = conf_graph_obj.get_independent_sets()\n",
    "\n",
    "print (conf_graph)\n",
    "\n",
    "_, conf_links = construct_conflict_edges(len(link_edges), conf_graph)"
   ]
  },
  {
   "cell_type": "code",
   "execution_count": null,
   "id": "631cc24c",
   "metadata": {
    "scrolled": true
   },
   "outputs": [],
   "source": [
    "print (conf_links)"
   ]
  },
  {
   "cell_type": "code",
   "execution_count": null,
   "id": "7f2aa4e0",
   "metadata": {},
   "outputs": [],
   "source": [
    "print (independent_sets)"
   ]
  },
  {
   "cell_type": "code",
   "execution_count": null,
   "id": "ddc1b7cc",
   "metadata": {
    "scrolled": true
   },
   "outputs": [],
   "source": [
    "import matplotlib as mpl\n",
    "\n",
    "G = nx.Graph()\n",
    "G.add_edges_from(conf_links)\n",
    "pos = nx.spring_layout(G)\n",
    "plt.figure(figsize=(8,6))\n",
    "\n",
    "cmap = plt.cm.plasma\n",
    "\n",
    "nx.draw(\n",
    "    G, pos, edge_color='black', width=2, linewidths=2,\n",
    "    node_size=300, node_color='pink', alpha=0.9, arrowstyle=\"->\",\n",
    "    arrowsize=25,\n",
    "    labels={node: node for node in G.nodes()}\n",
    ")\n",
    "\n",
    "# nodes = nx.draw_networkx_nodes(G, pos, node_size=300, node_color=\"indigo\", alpha=)\n",
    "# edges = nx.draw_networkx_edges(\n",
    "#     G,\n",
    "#     pos,\n",
    "#     node_size=3,\n",
    "#     arrowstyle=\"->\",\n",
    "#     arrowsize=10,\n",
    "#     edge_color='black',\n",
    "#     edge_cmap=cmap,\n",
    "#     width=2,\n",
    "# )\n",
    "# set alpha value for each edge\n",
    "\n",
    "\n",
    "ax = plt.gca()\n",
    "ax.set_axis_off()\n",
    "plt.show()"
   ]
  },
  {
   "cell_type": "code",
   "execution_count": null,
   "id": "afce56bf",
   "metadata": {},
   "outputs": [],
   "source": [
    "relative_dist_graph = mds.matrix_mask(dist_matrix, p2p_graph)\n",
    "\n",
    "# m = np.max(relative_dist_graph)\n",
    "# relative_dist_graph /= m\n",
    "# relative_dist_graph[relative_dist_graph == 0] = np.nan"
   ]
  },
  {
   "cell_type": "code",
   "execution_count": null,
   "id": "a2a178f9",
   "metadata": {},
   "outputs": [],
   "source": [
    "A = p2p_graph + np.eye(5)"
   ]
  },
  {
   "cell_type": "code",
   "execution_count": null,
   "id": "00f75dcc",
   "metadata": {},
   "outputs": [],
   "source": [
    "np.linalg.matrix_rank(relative_dist_graph)"
   ]
  },
  {
   "cell_type": "code",
   "execution_count": null,
   "id": "488a1274",
   "metadata": {
    "scrolled": false
   },
   "outputs": [],
   "source": [
    "np.linalg.eigvals(relative_dist_graph)"
   ]
  },
  {
   "cell_type": "code",
   "execution_count": null,
   "id": "2bfbcaf1",
   "metadata": {},
   "outputs": [],
   "source": [
    "def rmse(A,B):\n",
    "    rmse = np.sqrt(np.mean(((A-B)**2)))\n",
    "    print(\"RMSE: %.2f\" %rmse)\n",
    "    return rmse"
   ]
  },
  {
   "cell_type": "code",
   "execution_count": null,
   "id": "da59c2fa",
   "metadata": {},
   "outputs": [],
   "source": [
    "from matrix_completion import svt_solve, nuclear_norm_solve, pmf_solve, biased_mf_solve"
   ]
  },
  {
   "cell_type": "code",
   "execution_count": null,
   "id": "27437898",
   "metadata": {},
   "outputs": [],
   "source": [
    "from sklearn.impute import SimpleImputer\n",
    "imp = SimpleImputer(missing_values=np.nan, strategy='mean')\n",
    "\n",
    "a = imp.fit_transform(estimated_dist_matrix)"
   ]
  },
  {
   "cell_type": "code",
   "execution_count": null,
   "id": "9f9cbaa8",
   "metadata": {},
   "outputs": [],
   "source": [
    "rmse(dist_matrix, a)"
   ]
  },
  {
   "cell_type": "code",
   "execution_count": null,
   "id": "9d72a4bb",
   "metadata": {},
   "outputs": [],
   "source": [
    "import cvxpy\n",
    "\n",
    "X = Variable((30,30))\n",
    "obj = Minimize(norm(X, 'nuc') )  # norm nuclear: hypotesis of low rank\n",
    "constraints = [multiply(p2p_graph, X) == estimated_dist_matrix]\n",
    "prob = Problem(obj, constraints)\n",
    "prob.solve(solver=SCS)"
   ]
  },
  {
   "cell_type": "code",
   "execution_count": null,
   "id": "db3d93a2",
   "metadata": {},
   "outputs": [],
   "source": [
    "rmse(X.value, dist_matrix)"
   ]
  },
  {
   "cell_type": "code",
   "execution_count": null,
   "id": "f4bb141d",
   "metadata": {},
   "outputs": [],
   "source": []
  }
 ],
 "metadata": {
  "kernelspec": {
   "display_name": "Python 3 (ipykernel)",
   "language": "python",
   "name": "python3"
  },
  "language_info": {
   "codemirror_mode": {
    "name": "ipython",
    "version": 3
   },
   "file_extension": ".py",
   "mimetype": "text/x-python",
   "name": "python",
   "nbconvert_exporter": "python",
   "pygments_lexer": "ipython3",
   "version": "3.10.6"
  }
 },
 "nbformat": 4,
 "nbformat_minor": 5
}
